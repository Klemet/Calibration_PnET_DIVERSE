{
 "cells": [
  {
   "cell_type": "markdown",
   "id": "554d1d64-de0d-49e1-9eb5-a4a2ea05c2b5",
   "metadata": {},
   "source": [
    "User guide :\n",
    "\n",
    "It is prudent to test the competitive behavior of pairs of species to ensure that the behavior is appropriate. I recommend that you conduct some tests of two and/or three species combinations using your calibration setup to ensure that species compete as you would expect. Extremely poor competitive ability usually results only when a cohort is inappropriately overtopped by another and becomes lightstarved. Some users conduct tests (or even calibrate concurrently) on different soil types, which is especially useful for checking growth under waterlogged and drought conditions. Small tweaks to the H parameters can often greatly improve performance on those soils while having little effect on performance on the mesic soil. Anomalies can be corrected with modest tweaks of one or two parameters to ensure that the cohorts grow sufficiently similar to remain in the same canopy layer. You can also adjust the LayerThreshRatio parameters if needed to achieve desired canopy layering behavior. The currently recommended value is 0.5, but you may find that another value is better (e.g., 0.67).\n",
    "\n",
    "Again, to ensure realistic competition, it is advisable to use common parameter values across species as much as possible, unless you have empirical data that are comparable and reliable across species. If you are planning to experimentally vary some parameters, holding the others constant will improve the signal from your experiment.\n",
    "\n",
    "Minimizing species differences in parameters such as SLWDel, PsnAgeRed, k, MaintResp, DNSC and FracBelowG, will make competitive interactions more predictable. Hold these as close to each other as possible, varying other parameters to calibrate as much as possible within empirical limits. However, when you cannot calibrate adequately using the common parameter values, do not hesitate to vary the one or two other parameters that will produce good performance. It is very likely that such modifications reflect biological reality. 2) Use the PnET-Succession function worksheet to help you understand how the parameters determine the behavior of cohort state variables as a function of the abiotic inputs, both intermediate variables and the ones that ultimately reflect competition and growth (e.g., NetPsn, foliar and wood biomass, NSCfrac). It is available from the PnET-Succession page of the LANDIS-II website (www.landis-ii.org). 3) It is highly recommended that you verify your calibrations by simulating several similar species together to ensure that they in fact compete as expected. If not, often a slight tweak of one parameter can bring them in line with expectations.\n",
    "\n",
    "To produce predictable competitive interactions that can be controlled by intuitive modification of a small number of parameters for individual species, it is helpful to use common parameter values across all species whenever possible. These can be conveniently maintained (and modified as necessary) in the GenericPnETSpeciesParameters file. Other parameters vary by life history trait or growth form, and each species having a particular life history trait should have the same (or similar) parameter value to represent that trait. Examples of such traits include shade tolerance (HalfSat), drought tolerance (H3 & H4), extinction coefficient (k), relationship between foliar N and photosynthetic capacity (AmaxA and AmaxB), leaf weight change by canopy position (SLWdel) and fraction of foliar biomass relative to active wood biomass (FracFol). Parameters that the model is highly sensitive to (for which common values should be used as much as possible) include: MaintResp, AmaxA, AmaxB, k, and FracBelowG.\n",
    "\n",
    "MaintResp is a critical parameter for PnET-Succession because it is the primary determinant of cohort growth limitations and death, and growth is highly sensitive to variation in this parameter. Unfortunately, this parameter is rarely known empirically in the units used by the model, so it must be calibrated. If MaintResp is too low, cohorts will never die from stress and growth will be virtually unconstrained. If MaintResp is too high, growth will quickly level off because of high maintenance costs and cohorts will be highly susceptible to stress. For most studies, competitive outcomes should be a function of competition for light and water, not from a difference in maintenance costs. Therefore, it is recommended to find a value for MaintResp that works across life history traits and growth forms. This is fairly easily done. Choose some representative species having generic growth parameters (including great longevity) and simulate their growth curves, searching for a value of MaintResp that flattens (levels off) the growth curve after a few decades. Then gradually reduce MaintResp until the growth curve takes the shape of that typically seen in the growth curves of your long-lived species. Select a value of MaintResp that produces acceptable behavior for all life forms, etc., and use it for all species. In summary, you are searching for a value that is as high as it can be without creating a flattened growth curve. Values that work well for many temperate ecosystems are between 0.0015 and 0.002."
   ]
  }
 ],
 "metadata": {
  "kernelspec": {
   "display_name": "Python 3 (ipykernel)",
   "language": "python",
   "name": "python3"
  },
  "language_info": {
   "codemirror_mode": {
    "name": "ipython",
    "version": 3
   },
   "file_extension": ".py",
   "mimetype": "text/x-python",
   "name": "python",
   "nbconvert_exporter": "python",
   "pygments_lexer": "ipython3",
   "version": "3.10.12"
  }
 },
 "nbformat": 4,
 "nbformat_minor": 5
}
