{
 "cells": [
  {
   "cell_type": "markdown",
   "id": "cc2fee93-7fcc-4953-a455-fa64d827919c",
   "metadata": {},
   "source": [
    "User guide :\n",
    "\n",
    "Finally, EstRad can be set equal to the highest fRad value seen in the first couple of growing seasons (Age=1-2). Thus, the effect of light on establishment is scaled to the best-case light conditions possible. Values in Table 1 are based on my experience, but you should confirm them by checking a few species against your own outputs. Please share with me anything you may learn about setting EstRad. Note: EstMoist is almost always set to 1.0 because fWater regularly equals 1.0 during simulations (see PnET-Succession User Guide for details).\n",
    "\n",
    "Establishment probability (Pest) is a function of the light and water photosynthesis reduction factors for the species at the time of establishment. The two reduction factors are rarely scaled the same in that fWater commonly takes values of 1.0, while fRad may never exceed values considerably lower than that. To give both reduction factors the same weight, set each establishment modifier equal to the highest expected reduction factor value. This can be estimated by using the maximum value for each factor seen in the calibration files for each species. Typically, EstMoist will equal 1.0, and EstRad may range from 0.85-0.98. Furthermore, establishment rates are sometimes too high or too low using Pest as calculated directly from the two main reduction factors. Consider the parameter MaxPest to be a tuning knob to dial all establishment rates up or down. This cannot be done on a single cell and must be done on a landscape before you conduct landscape-scale experiments. I don’t have enough experience to provide concrete guidance. I suggest starting with a MaxPest value of 1.0 (no alteration of Pest) and tune up or down from there if cohort numbers indefinitely increase or decrease, or if mean # of cohorts per cell consistently exceeds about 12. Values of 0.15 or less are not unusual. MaxPest is dependent on the PnET-Succession time step, meaning that you must reset its value when you change the time step. We think it may be as simple as reducing the value in proportion to the change in time step length. For example, if the length of the time step is reduced by half, also reduce the value of MaxPest by half. We are working on a way to modify the code to make MaxPest time-step invariant, but have not yet found a robust method. If establishment seems unresponsive to MaxPest, it may be that you have too many canopy layers, and very little light is reaching the forest floor on most cells."
   ]
  }
 ],
 "metadata": {
  "kernelspec": {
   "display_name": "Python 3 (ipykernel)",
   "language": "python",
   "name": "python3"
  },
  "language_info": {
   "codemirror_mode": {
    "name": "ipython",
    "version": 3
   },
   "file_extension": ".py",
   "mimetype": "text/x-python",
   "name": "python",
   "nbconvert_exporter": "python",
   "pygments_lexer": "ipython3",
   "version": "3.10.12"
  }
 },
 "nbformat": 4,
 "nbformat_minor": 5
}
