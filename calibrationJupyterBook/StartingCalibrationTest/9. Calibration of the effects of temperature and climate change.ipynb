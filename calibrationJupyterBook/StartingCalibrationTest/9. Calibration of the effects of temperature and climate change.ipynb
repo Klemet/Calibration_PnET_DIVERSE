{
 "cells": [
  {
   "cell_type": "markdown",
   "id": "15faa918-e6ad-43c9-8773-88605e91fc79",
   "metadata": {},
   "source": [
    "User guide :\n",
    "\n",
    "Temperature parameters provide an important link between climate and species growth, and they should be calibrated carefully when conducting climate-related studies. LeafOnMinT controls the length of the growing season by comparing LeafOnMinT to monthly Tmin. Calibration also involves verifying that the appropriate months are active (LeafOn=TRUE) given the climate inputs. LeafOnMinT should vary approximately with leaf-on and leaf senescence dates, and typically ranges between 2-4 oC for temperate species, and between 0.5 and 2.5 for boreal species.\n",
    "\n",
    "Set photosynthesis temperature parameters (usually based on range maps), remembering that temperature parameters are based on Tday (average daytime temperature). You can find CONUS Tday and Tmin maps (.img format) on a GitHub link found on the PnETSuccession LANDIS-II web page. Values used successfully for prior model versions are not affected by the recent bug fixes. PsnTMin controls how productive the species is at the beginning and end of the growing season and will produce a modest growth response to shifts in temperature even when the number of growing season months is unchanged. Similarly, in some years you may get some modeled photosynthesis activity in a month when the species is not typically active for the entire month, but this is not a problem if NetPsn is quite low in those months. Note that PsnTMin, PsnTOpt and PsnTMax values are compared to Tday (average daytime temperature), not Tmax (daytime high temperature), and should be set accordingly. I typically vary PsnTMin among species relative to the April average daytime temperature isotherms at their northern range boundaries (PsnTMin=April Tday/4).\n",
    "\n",
    "In lieu of empirical values, PsnTOpt can be estimated using the average mid-summer Tday (3 warmest months) at the center of the species’ range. This can be approximated by subtracting a degree or two from the July Tday value.\n",
    "\n",
    "For the most realistic high temperature response, use the DTEMP=true option. Empirical values for maximum temperature limits to photosynthesis are typically instantaneous photosynthesis rates, while PnET-Succession interprets PsnTMax as the average daytime temperature above which there is no photosynthesis. Thus, PsnTMax should be lower than the typical bio-chemical limit of 39-40 oC. I use PsnTMax to make more northerly species less competitive than southerly species as climate warms. PsnTMax is typically closer to PsnTOpt than is PsnTMin. I usually vary PsnTMax among species relative to the July Tday isotherms at their southern range boundaries unless those boundaries are clearly related to a factor other than temperature. I have found that Tday is usually lower at this isotherm than is a reasonable value for PsnTMax, so I typically add 4 degrees to each. See example input file at the end of this Appendix for values I have used. I have found that PsnTMax does not tightly limit growth under warmer conditions because warmer conditions also lengthen the growing season, and the species will do very well early and late in the growing season even though it may be completely shut down in midsummer."
   ]
  }
 ],
 "metadata": {
  "kernelspec": {
   "display_name": "Python 3 (ipykernel)",
   "language": "python",
   "name": "python3"
  },
  "language_info": {
   "codemirror_mode": {
    "name": "ipython",
    "version": 3
   },
   "file_extension": ".py",
   "mimetype": "text/x-python",
   "name": "python",
   "nbconvert_exporter": "python",
   "pygments_lexer": "ipython3",
   "version": "3.10.12"
  }
 },
 "nbformat": 4,
 "nbformat_minor": 5
}
