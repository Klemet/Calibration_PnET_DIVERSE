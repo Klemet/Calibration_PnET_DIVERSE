{
 "cells": [
  {
   "cell_type": "markdown",
   "id": "73926049-dd11-4571-b296-d0816add79cf",
   "metadata": {},
   "source": [
    "# Drafts\n",
    "\n",
    "This document contains cells or code snippets that I want to keep aside, but that are not used in the rest of the files anymore."
   ]
  },
  {
   "cell_type": "markdown",
   "id": "2947fd64-aedb-4f3f-9af4-be6beaf09629",
   "metadata": {},
   "source": []
  },
  {
   "cell_type": "markdown",
   "id": "eea864fc-bbfa-400f-886b-b1144037f7b1",
   "metadata": {},
   "source": [
    "## Obtaining climate data manually from climatedata.ca\n",
    "\n",
    "Since we're doing calibration simulation here, we don't have a particular place where our simulation take place. It's up to us to choose where the climate data comes from, and there is not a \"best\" way to do things.\n",
    "\n",
    "It's surely most likely better to use climate conditions that are closer to the average of the conditions we want to simulate in other LANDIS-II simulation rather than to extremes (especially for this first step of calibration). We also want to make sure that the location we use ca be inputted in FVSon.\n",
    "\n",
    "I propose that we use an area near the border between the boral and temperate forest, and near the center of Ontario. It will be arbitrary.\n",
    "\n",
    "Here is a map from of the forests of Ontario from the 2016 forest report of Ontario :\n",
    "\n",
    "![](https://files.ontario.ca/1a-forestregion-map_e_1.png)\n",
    "\n",
    "The city of [Chapleau](https://www.openstreetmap.org/#map=12/47.8416/-83.4106) seems to be located near the limit between the boreal and temperate forest. I will use a 5x5 grid cell (the grid cells being defined in the form of [https://climatedata.ca/download/](https://climatedata.ca/download/)) to download the data. Here is what it looks like on [https://climatedata.ca/download/](https://climatedata.ca/download/) :\n",
    "\n",
    "![](./ChapleauClimateDataDotCA_5x5GridCellsForAveraging.png)\n",
    "\n",
    "<details>\n",
    "<summary>🖼️ (Collapsible section) Click here to show what the download form on https://climatedata.ca/download/ looks like when filled.</summary>\n",
    "\n",
    "![](Sceenshot_FormClimateCanadaDotCA_Chapleau5x5Download.png)\n",
    "\n",
    "</details>\n",
    "\n",
    "The resulting data is in the files located in ReferencesAndData/ClimateDataChapleauOntario\n",
    "\n",
    "The following sections will load and edit this data to create the climate file needed for PnET."
   ]
  },
  {
   "cell_type": "markdown",
   "id": "52272603-cd2e-4bf0-a044-ba2775dd593d",
   "metadata": {},
   "source": []
  }
 ],
 "metadata": {
  "kernelspec": {
   "display_name": "Python 3 (ipykernel)",
   "language": "python",
   "name": "python3"
  },
  "language_info": {
   "codemirror_mode": {
    "name": "ipython",
    "version": 3
   },
   "file_extension": ".py",
   "mimetype": "text/x-python",
   "name": "python",
   "nbconvert_exporter": "python",
   "pygments_lexer": "ipython3",
   "version": "3.10.12"
  }
 },
 "nbformat": 4,
 "nbformat_minor": 5
}
