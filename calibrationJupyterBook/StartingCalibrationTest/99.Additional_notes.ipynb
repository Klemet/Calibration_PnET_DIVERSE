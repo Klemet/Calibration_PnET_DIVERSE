{
 "cells": [
  {
   "cell_type": "markdown",
   "id": "ea1ec427-4949-49f4-abd7-6e12464d74db",
   "metadata": {},
   "source": [
    "- When many species will have been calibrated : try to replicate the flux on flux towers sites in Quebec (forêt de Montmorency; see https://library-archives.canada.ca/eng/services/services-libraries/theses/Pages/item.aspx?idNumber=1245841862)"
   ]
  }
 ],
 "metadata": {
  "kernelspec": {
   "display_name": "Python 3 (ipykernel)",
   "language": "python",
   "name": "python3"
  },
  "language_info": {
   "codemirror_mode": {
    "name": "ipython",
    "version": 3
   },
   "file_extension": ".py",
   "mimetype": "text/x-python",
   "name": "python",
   "nbconvert_exporter": "python",
   "pygments_lexer": "ipython3",
   "version": "3.10.12"
  }
 },
 "nbformat": 4,
 "nbformat_minor": 5
}
