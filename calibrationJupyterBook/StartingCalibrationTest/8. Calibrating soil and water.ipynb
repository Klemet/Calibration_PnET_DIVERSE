{
 "cells": [
  {
   "cell_type": "markdown",
   "id": "62e18e35-f315-4bc9-ac0d-88ab1cac198d",
   "metadata": {},
   "source": [
    "Here, we do sims where we change the soil type to keep water more or less.\n",
    "\n",
    "See the methodology of Brian's team : what soils did they use ? \n",
    "\n",
    "UG : Soil water is determined by inputs (precipitation) and outputs (PrecLossFrac, percolation out of the rooting zone (controlled by SoilType) and transpiration). Tuning of soil water is done primarily with PrecLossFrac, LeakageFrac and SoilType, which assumes that transpiration is correct if the photosynthesis and growth behavior is correct. PrecLossFrac typically represents water lost where slope is sufficient for water to run off before it can enter the soil. You should calibrate for a slope condition that is flatter than average in your study area. If you have species that are found only in wetlands, you should calibrate those on a wetland ecoregion, having RunoffCapture and LeakageFrac parameter settings that produce appropriate soil saturation. RunoffCapture represents the maximum depth of standing water across the ecoregion, and LeakageFrac can be used to reflect any impermeable soil layer that reduces drainage. In lieu of empirical data to help set these parameters, tune them such that the species typically found there can survive and the hydrology mimics reality. Species that are found on both upland and lowland sites should be calibrated on both types of sites, focusing on H1 and H2 on lowland sites and H3 and H4 on upland sites."
   ]
  }
 ],
 "metadata": {
  "kernelspec": {
   "display_name": "Python 3 (ipykernel)",
   "language": "python",
   "name": "python3"
  },
  "language_info": {
   "codemirror_mode": {
    "name": "ipython",
    "version": 3
   },
   "file_extension": ".py",
   "mimetype": "text/x-python",
   "name": "python",
   "nbconvert_exporter": "python",
   "pygments_lexer": "ipython3",
   "version": "3.10.12"
  }
 },
 "nbformat": 4,
 "nbformat_minor": 5
}
