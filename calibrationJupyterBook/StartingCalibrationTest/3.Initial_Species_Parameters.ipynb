{
 "cells": [
  {
   "cell_type": "markdown",
   "id": "63662b2a-542d-4a1d-9c06-57b16dccdea6",
   "metadata": {},
   "source": [
    "# Initial species parameters"
   ]
  },
  {
   "cell_type": "markdown",
   "id": "b9fe7831-2c56-4ec1-b455-5f2b5b7cb3e6",
   "metadata": {},
   "source": [
    "In the [calibration plan](https://klemet.github.io/DIVERSE_LANDIS-II_Parameterization/#Plan%20for%20a%20new%20calibration%20of%20PnET%20in%20Canada), I propose we start either with the parameter values for the type of shade tolerant species proposed in the [Gustafson and Miranda (2023)](./ReferencesAndData/Gustafson2024PnETUserGuide.pdf) (Table 1 page 74), or with parameter values extracted from the litterature.\n",
    "\n",
    "**Here, I describe how/from where I obtained these initial parameter values that serve as the basis of the calibration.**"
   ]
  },
  {
   "cell_type": "markdown",
   "id": "f4d08fe0-a209-4539-86c4-211a76bfacc0",
   "metadata": {},
   "source": [
    "## Parameters concerned and distinction between generic parameters, generic species parameters, and species parameters"
   ]
  },
  {
   "cell_type": "markdown",
   "id": "0206c560-6483-4b22-86e1-8a8256b26704",
   "metadata": {},
   "source": [
    "[Gustafson and Miranda (2023)](./ReferencesAndData/Gustafson2024PnETUserGuide.pdf) advises that several species parameters should be used as *generic species parameters*, meaning that their value should be the same between species, in order to facilitate the comprehension of competition processes.\n",
    "\n",
    "> Use the GenericPnETSpeciesParameters file for all parameters that are not varied among species.  Set parameters that will be held constant for your particular experiment or study (e.g., MaintResp, InitialNSC, etc.)\n",
    "\n",
    "> Parameters that the model is highly sensitive to (for which common values should be used as much as possible) include: MaintResp, AmaxA, AmaxB, k, and FracBelowG.\n",
    "\n",
    "> Minimizing species differences in parameters such as SLWDel, PsnAgeRed, k, MaintResp, DNSC and FracBelowG, will make competitive interactions more predictable.  Hold these as close to each other as possible, varying other parameters to calibrate as much as possible within empirical limits.\n",
    "\n",
    "As such, I will begin with these parameters (`MaintResp`, `InitialNSC`, `k`, `FracBelowG`, `PsnAgeRed`, `DNSC`) being similar between species, and will only vary them if the calibration process demands it (as highlighted in several sections of the calibration tips in [Gustafson and Miranda (2023)](./ReferencesAndData/Gustafson2024PnETUserGuide.pdf)). `SLWDel`, `k`, `AmaxA` and `AmaxB` will not be generic as they have to vary at least between evergreen and deciduous according to [Gustafson and Miranda (2023)](./ReferencesAndData/Gustafson2024PnETUserGuide.pdf).\n",
    "\n",
    "The rest of the species parameters (see [here](./ReferencesAndData/LANDIS-IIPnETextensionParametersInformation.xlsx) for a full list), which are `FolN`, `SLWmax`, `TOFol`, `TORoot`, `TOWood`, `HalfSat`, `H1`, `H2`, `H3`, `H4`, `LeafOnMinT`, `PsnTMin`, `PsnTOpt`, `EstMoist`, `EstRad`, `FracFol`, `FrActWd`, `SLWDel`, `k`, `AmaxA` and `AmaxB` will change by species or by growth form/strategy (e.g. shade tolerant, etc.). **Optional parameters (such as `PsnTMax`, `ColTol`, `MaxLAI`, etc.) will not be considered here**.\n",
    "\n",
    "We will also distinguish *generic parameters* that are not supposed to change by species, but that are essential to the functioning of the PnET Succession algorithm (`PARunits`, `PrecipEvents`, etc.)."
   ]
  },
  {
   "cell_type": "markdown",
   "id": "de420d8f-bf7e-4466-a59c-856e9ab09be8",
   "metadata": {},
   "source": [
    "(source_param_values)=\n",
    "## Sources of parameter values"
   ]
  },
  {
   "cell_type": "markdown",
   "id": "0a8336fb-e19a-4b33-827e-8166645c1b53",
   "metadata": {},
   "source": [
    "Several sources and references for parameter values will be considered here. I assign to them a number that is indicative of their pertinence related to our study (1 = highest pertinence), and so the priority in which the source will be used to take the initial parameters for the calibration.\n",
    "\n",
    "- **(1)** [Gustafson and Miranda (2023)](./ReferencesAndData/Gustafson2024PnETUserGuide.pdf) (the PnET v5.1 user guide, which contains many parameter values recommanded by Eric Gustafson, especially initial values to be used as starting points; see Table 1 page 74 for initial values, or pages 78-79; or pages 80-82 for calibrated values in of northern Wisconsin)\n",
    "- Other recommendations of [Gustafson and Miranda (2023)](./ReferencesAndData/Gustafson2024PnETUserGuide.pdf)  :\n",
    "    - **(4)** [Aber et al. (1996)](https://link.springer.com/article/10.1007/BF00328606) : Fig 2 shows the relationship between Lean nitrogen concentration (in % of dry weight) and the parameter AmaxA from PnET.\n",
    "    - Some PnET parameters (e.g., SLWDel, AmaxA, AmaxB, Q10, DVPD1, DVPD2) are hard to estimate and most studies use generic values (e.g., **(5)** [Aber et al. 1995, Table 2](https://www.int-res.com/articles/cr/5/c005p207.pdf), **(6)** [Ollinger and Smith 2005, Table 1](https://link.springer.com/article/10.1007/s10021-005-0079-5)).\n",
    "    - **(7)** To calibrate the biomass of roots (via TORoot, FracBelowG), see the estimates of whole tree biomass of [Smith et al. 2006](https://books.google.ca/books?hl=fr&lr=&id=rNMHmlNynNsC&oi=fnd&pg=PP4&dq=Smith,+J.E.,+Heath,+L.S.,+Skog,+K.E.,+Birdsey,+R.A.+2006.+Methods+for+calculating+forest+ecosystem+and+harvested+carbon+with+standard+estimates+for+forest+types+of+the+United+States.+USDA+Forest+Service+General+Technical+Report+NE-343.+Northeastern+Research+Station,+Newtown+Square,+PA,+USA.+216+p.&ots=Urs7Cs4FtB&sig=zS2t0mlM9OAMVnifokfRNYAUnpk#v=onepage&q&f=false)\n",
    "\n",
    "- More recent articles about PnET-II :\n",
    "    - **(8)** [Suárez-Muñoz1 et al. 2021](https://www.frontiersin.org/journals/ecology-and-evolution/articles/10.3389/fevo.2021.653393/full) : calibration of PnET Succession in an European context. No north america species, though.\n",
    "    - No others ? Not a lot of articles; and doesn't seem like I'll get better initial params.\n",
    "\n",
    "- For Quebec,\n",
    "    - **(2)** Data from [Mina et al. 2021](https://esajournals.onlinelibrary.wiley.com/doi/10.1002/eap.2221) (also used in [Mina et al. 2022](https://onlinelibrary.wiley.com/doi/abs/10.1111/gcb.16197)). All parameters used are on [this Github repository](https://github.com/mrcmina/REDEFINE-Mina_etal_EcolAppl/tree/1.0/Input_Data/PnET). ⚠️ These parameters are for PnET Succession 3.5. According to [Gustafson and Miranda (2023)](./ReferencesAndData/Gustafson2024PnETUserGuide.pdf), several parameters (not precised) need recalibration after version 5.0; therefore, these parameters cannot be used \"as is\" with v.5.1, even though they are for Quebec.\n",
    "    - **(3)** Data from [Ameray et al. 2023](https://www.frontiersin.org/articles/10.3389/ffgc.2023.1020305). All parameters used are on [this Github repository](https://github.com/Ameray/PhD-thesis/tree/main). ⚠️ These parameters are for PnET Succession 4.1. According to [Gustafson and Miranda (2023)](./ReferencesAndData/Gustafson2024PnETUserGuide.pdf), several parameters (not precised) need recalibration after version 5.0; therefore, these parameters cannot be used \"as is\" with v.5.1, even though they are for Quebec."
   ]
  },
  {
   "cell_type": "markdown",
   "id": "bb9fac1f-ec43-43ad-8232-4d7c6590d093",
   "metadata": {},
   "source": [
    "## Initial generic parameters for the species"
   ]
  },
  {
   "cell_type": "markdown",
   "id": "142f3d94-959a-427d-ad50-864bf53b8a1a",
   "metadata": {},
   "source": [
    "Here is a table of species parameter values for the parameters that will be kept as generic (`MaintResp`, `InitialNSC`, `FracBelowG`, `PsnAgeRed`, `DNSC`, `DVPD1`, `DVPD2`, `BFoldResp`, `Q10`, `FolLignin`, `CFracBiomass`) between species. Exponents are the sources with the same numbers as noted in  [Sources of parameter values](source_param_values).\n",
    "\n",
    "| `MaintResp` | `InitialNSC` | `FracBelowG` | `PsnAgeRed` | `DNSC` | `DVPD1` | `DVPD2` | `BFoldResp` | `Q10` | `FolLignin` | \n",
    "|:-----------:|:------------:|:------------:|:-----------:|:------:|:------:|:------:|:------:|:------:|:------:|\n",
    "| 0.002 [^1]  | 7 [^3]       | 0.35 (average among species in [^2] and [^3]) | 5 [^1] | 0.05 [^1] | 0.05 [^1] | 2 [^1] | 0.1 [^1] | 2 [^1] | 0.2 [^1] | \n",
    "\n",
    "[^1]: [Gustafson and Miranda (2023)](./ReferencesAndData/Gustafson2024PnETUserGuide.pdf)\n",
    "[^2]: [Mina et al. 2021](https://esajournals.onlinelibrary.wiley.com/doi/10.1002/eap.2221) : [Github repo](https://github.com/mrcmina/REDEFINE-Mina_etal_EcolAppl/tree/1.0/Input_Data/PnET)\n",
    "[^3]: [Ameray et al. 2023](https://www.frontiersin.org/articles/10.3389/ffgc.2023.1020305) : [Github repo](https://github.com/Ameray/PhD-thesis/tree/main/chapter2/MU2)\n",
    "[^4]: [Aber et al. (1996)](https://link.springer.com/article/10.1007/BF00328606)\n",
    "[^5]: [Aber et al. 1995, Table 2](https://www.int-res.com/articles/cr/5/c005p207.pdf)\n",
    "[^6]: [Ollinger and Smith 2005, Table 1](https://link.springer.com/article/10.1007/s10021-005-0079-5)\n",
    "[^7]: [Smith et al. 2006](https://books.google.ca/books?hl=fr&lr=&id=rNMHmlNynNsC&oi=fnd&pg=PP4&dq=Smith,+J.E.,+Heath,+L.S.,+Skog,+K.E.,+Birdsey,+R.A.+2006.+Methods+for+calculating+forest+ecosystem+and+harvested+carbon+with+standard+estimates+for+forest+types+of+the+United+States.+USDA+Forest+Service+General+Technical+Report+NE-343.+Northeastern+Research+Station,+Newtown+Square,+PA,+USA.+216+p.&ots=Urs7Cs4FtB&sig=zS2t0mlM9OAMVnifokfRNYAUnpk#v=onepage&q&f=false)\n",
    "[^8]: [Suárez-Muñoz1 et al. 2021](https://www.frontiersin.org/journals/ecology-and-evolution/articles/10.3389/fevo.2021.653393/full)"
   ]
  },
  {
   "cell_type": "markdown",
   "id": "6746e2ef-68a6-4f7c-aa75-45971b37bdad",
   "metadata": {},
   "source": [
    "#### Initial species parameters"
   ]
  },
  {
   "cell_type": "markdown",
   "id": "1b10af85-8b72-4dec-9852-6c789ad03536",
   "metadata": {},
   "source": [
    "Here is a table of parameter values for the parameters that will vary among species (`FolN`, `SLWmax`, `MaxLAI`, `TOFol`, `TORoot`, `TOWood`, `HalfSat`, `H1`, `H2`, `H3`, `H4`, `LeafOnMinT`, `PsnTMin`, `PsnTOpt`, `20k`, `EstMoist`, `EstRad`, `FracFol`, `FrActWd`, `SLWDel`, `k`, `KWdLit`, `AmaxA` and `AmaxB`). Exponents are the sources with the same numbers as noted in  [Sources of parameter values](source_param_values).\n",
    "\n",
    "| Species | `FolN` | `SLWmax`  | `TOFol` | `TORoot` | `TOWood` | `HalfSat` | `H1` | `H2` | `H3` | `H4` | `LeafOnMinT` | `PsnTMin` | `PsnTOpt` | `k` | `EstMoist` | `EstRad` | `FracFol` | `FrActWd` | `SLWDel` | `AmaxA` | `AmaxB` | `KWdLit` | `CFracBiomass` |\n",
    "|:-:|:-:|:-:|:-:|:-:|:-:|:-:|:-:|:-:|:-:|:-:|:-:|:-:|:-:|:-:|:-:|:-:|:-:|:-:|:-:|:-:|:-:|:-:|:-:|\n",
    "| *Abies balsamea* | 1 [^1] | 145 [^1] | 0.2 [^1] | 0.03 [^1] same as TOWood | 0.03 [^1] | 134 [^1] | -1.5 [^1] | 3 [^1] | 140 [^1] | 140 [^1] | 1.9 [^1] | 0.8 [^1] | 16.8 [^1] | 0.5 [^1] | 1 [^1] (recommanded in paragraph 26 and 32 of calibration tips) | 0.976 from page 74 of [^1], based on the fact that *Abies balsamea* is very shade tolerant | 0.07 [^1] | 0.00003 [^1] | 0.0 [^1] | 5.3 [^1] | 21.5 [^1] | 0.125; written as \"KWlit\" (typo) in [^1] | 0.5 from page 74 of [^1], based on the fact that *Abies balsamea* is very shade tolerant |\n",
    "| *Acer rubrum* | 2.32 [^1] | 73 [^1] | 1 [^1] | 0.037 [^1] same as TOWood | 0.037 [^1]  | 181 [^1] | -2 [^1] | 2 [^1] | 145 [^1] | 145 [^1] | 2.4 [^1] | 1.75 [^1] | 25.5 [^1] | 0.58 [^1] | 1 [^1] (recommanded in paragraph 26 and 32 of calibration tips) | 0.928 from page 74 of [^1], based on the fact that *Acer rubrum* is somewhat shade tolerant | 0.014 [^1] | 0.000022 [^1] | 0.2 [^1] | -46 [^1] | 71.9 [^1] | 0.075; written as \"KWlit\" (typo) in [^1] | 0.45 from page 74 of [^1], based on the fact that *Acer rubrum* is somewhat shade tolerant |\n",
    "| *Picea mariana* | 1 [^1] | 225 [^1] | 0.18 [^1] | 0.03 [^1] same as TOWood | 0.03 [^1] | 197 [^1] | -4.5 [^1] | 1.5 [^1] | 138 [^1] | 138 [^1] | 1.5 [^1] | 0.175 [^1] | 15.1 [^1] | 0.5 [^1] | 1 [^1] (recommanded in paragraph 26 and 32 of calibration tips) | 0.954 from page 74 of [^1], based on the fact that *Picea mariana* is pretty shade tolerant | 0.04 [^1] | 0.000022 [^1] | 0.0 | 5.3 [^1] | 21.5 [^1] | 0.125; written as \"KWlit\" (typo) in [^1] | 0.475 from page 74 of [^1], based on the fact that *Picea mariana* is pretty shade tolerant |\n",
    "\n",
    "[^1]: [Gustafson and Miranda (2023)](./ReferencesAndData/Gustafson2024PnETUserGuide.pdf)\n",
    "[^2]: [Mina et al. 2021](https://esajournals.onlinelibrary.wiley.com/doi/10.1002/eap.2221) : [Github repo](https://github.com/mrcmina/REDEFINE-Mina_etal_EcolAppl/tree/1.0/Input_Data/PnET)\n",
    "[^3]: [Ameray et al. 2023](https://www.frontiersin.org/articles/10.3389/ffgc.2023.1020305) : [Github repo](https://github.com/Ameray/PhD-thesis/tree/main/chapter2/MU2)\n",
    "[^4]: [Aber et al. (1996)](https://link.springer.com/article/10.1007/BF00328606)\n",
    "[^5]: [Aber et al. 1995, Table 2](https://www.int-res.com/articles/cr/5/c005p207.pdf)\n",
    "[^6]: [Ollinger and Smith 2005, Table 1](https://link.springer.com/article/10.1007/s10021-005-0079-5)\n",
    "[^7]: [Smith et al. 2006](https://books.google.ca/books?hl=fr&lr=&id=rNMHmlNynNsC&oi=fnd&pg=PP4&dq=Smith,+J.E.,+Heath,+L.S.,+Skog,+K.E.,+Birdsey,+R.A.+2006.+Methods+for+calculating+forest+ecosystem+and+harvested+carbon+with+standard+estimates+for+forest+types+of+the+United+States.+USDA+Forest+Service+General+Technical+Report+NE-343.+Northeastern+Research+Station,+Newtown+Square,+PA,+USA.+216+p.&ots=Urs7Cs4FtB&sig=zS2t0mlM9OAMVnifokfRNYAUnpk#v=onepage&q&f=false)\n",
    "[^8]: [Suárez-Muñoz1 et al. 2021](https://www.frontiersin.org/journals/ecology-and-evolution/articles/10.3389/fevo.2021.653393/full)\n"
   ]
  },
  {
   "cell_type": "markdown",
   "id": "f439e8a2-2ee6-4160-a78e-b1ad61f66fe4",
   "metadata": {},
   "source": [
    "## Generic parameters"
   ]
  },
  {
   "cell_type": "markdown",
   "id": "22cffd61-fca3-4394-9b3e-84aeb7fe9eb0",
   "metadata": {},
   "source": [
    "These remaining parameters are the one that must be specified in the generic parameter file no matter what, but that are not supposed to vary by species or by ecoregion (`PARunits`, `PrecipEvents`, `PrecipEventsWithReplacement`, `ETExtCoeff`, `RETCropCoeff`, `PreventEstablishment`, `Wythers`, `DTEMP`, `MaxPest`, `AmaxFrac`. Exponents are the sources with the same numbers as noted in  [Sources of parameter values](source_param_values).\n",
    "\n",
    "\n",
    "| `PARunits` | `PrecipEvents` | `PrecipEventsWithReplacement` | `ETExtCoeff` | `RETCropCoeff` | `PreventEstablishment` | `Wythers` | `DTEMP` | `MaxPest` | `AmaxFrac` | \n",
    "|:-:|:-:|:-:|:-:|:-:|:-:|:-:|:-:|:-:|:-:|\n",
    "| mmol/m2/sec; Same unit as Halfsat, which is from [^1] (see previous cell) | 11 [^1] | True (default value in [^1]) | 0.65 (default value in [^1]) | 0.30 (default value in [^1] | True (to prevent establishment in the monoculture calibration) | True [^1] | True [^1] | 1.0 (from [^1], where it's proposed that MaxPest = timestep length/10. Not useful until the calibration of establishment.) | 0.75 (default value in [^1]) | \n",
    "\n",
    "[^1]: [Gustafson and Miranda (2023)](./ReferencesAndData/Gustafson2024PnETUserGuide.pdf)\n",
    "[^2]: [Mina et al. 2021](https://esajournals.onlinelibrary.wiley.com/doi/10.1002/eap.2221) : [Github repo](https://github.com/mrcmina/REDEFINE-Mina_etal_EcolAppl/tree/1.0/Input_Data/PnET)\n",
    "[^3]: [Ameray et al. 2023](https://www.frontiersin.org/articles/10.3389/ffgc.2023.1020305) : [Github repo](https://github.com/Ameray/PhD-thesis/tree/main/chapter2/MU2)\n",
    "[^4]: [Aber et al. (1996)](https://link.springer.com/article/10.1007/BF00328606)\n",
    "[^5]: [Aber et al. 1995, Table 2](https://www.int-res.com/articles/cr/5/c005p207.pdf)\n",
    "[^6]: [Ollinger and Smith 2005, Table 1](https://link.springer.com/article/10.1007/s10021-005-0079-5)\n",
    "[^7]: [Smith et al. 2006](https://books.google.ca/books?hl=fr&lr=&id=rNMHmlNynNsC&oi=fnd&pg=PP4&dq=Smith,+J.E.,+Heath,+L.S.,+Skog,+K.E.,+Birdsey,+R.A.+2006.+Methods+for+calculating+forest+ecosystem+and+harvested+carbon+with+standard+estimates+for+forest+types+of+the+United+States.+USDA+Forest+Service+General+Technical+Report+NE-343.+Northeastern+Research+Station,+Newtown+Square,+PA,+USA.+216+p.&ots=Urs7Cs4FtB&sig=zS2t0mlM9OAMVnifokfRNYAUnpk#v=onepage&q&f=false)\n",
    "[^8]: [Suárez-Muñoz1 et al. 2021](https://www.frontiersin.org/journals/ecology-and-evolution/articles/10.3389/fevo.2021.653393/full)"
   ]
  },
  {
   "cell_type": "code",
   "execution_count": null,
   "id": "15266b8c-e2fd-4d19-950e-2842a2fe9250",
   "metadata": {},
   "outputs": [],
   "source": []
  }
 ],
 "metadata": {
  "kernelspec": {
   "display_name": "Python 3 (ipykernel)",
   "language": "python",
   "name": "python3"
  },
  "language_info": {
   "codemirror_mode": {
    "name": "ipython",
    "version": 3
   },
   "file_extension": ".py",
   "mimetype": "text/x-python",
   "name": "python",
   "nbconvert_exporter": "python",
   "pygments_lexer": "ipython3",
   "version": "3.10.12"
  }
 },
 "nbformat": 4,
 "nbformat_minor": 5
}
