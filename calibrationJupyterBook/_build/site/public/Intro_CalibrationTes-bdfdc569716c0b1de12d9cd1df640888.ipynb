{
 "cells": [
  {
   "cell_type": "markdown",
   "id": "040cd522-b204-4c6e-9f50-e9dcca97adc6",
   "metadata": {},
   "source": [
    "# Calibration test"
   ]
  },
  {
   "cell_type": "markdown",
   "id": "84618b22-fa06-4f91-b19f-1734adecc589",
   "metadata": {},
   "source": [
    "Using the first version of the [calibration plan described in the larger documentation concerning the DIVERSE project](https://klemet.github.io/DIVERSE_LANDIS-II_Parameterization/#Plan%20for%20a%20new%20calibration%20of%20PnET%20in%20Canada), I will make a first attempt here to calibrate a couple of species in a region of Quebec already used for simulations in the DIVERSE project based on the calibration tips of Eric Gustafson hilighted in [Gustafson and Miranda (2023)](./ReferencesAndData/Gustafson2024PnETUserGuide.pdf)."
   ]
  },
  {
   "cell_type": "markdown",
   "id": "64c96cd6-a5fc-4064-83b5-5b50be688e6c",
   "metadata": {},
   "source": [
    "## 🎯 Objective\n",
    "\n",
    "To calibrate 3 species whose parameters are already proposed in the [PnET Succession v5.1 User Guide](https://github.com/LANDIS-II-Foundation/Extension-PnET-Succession/blob/master/deploy/docs/LANDIS-II%20PnET-Succession%20v5.1%20User%20Guide.pdf), but which are found in Quebec :\n",
    "\n",
    "- *Abies balsamea*, the Balsam Fir\n",
    "- *Acer rubrum*, the Red Maple\n",
    "- *Picea mariana*, the Black Spruce."
   ]
  },
  {
   "cell_type": "markdown",
   "id": "0a32ce6e-1542-40b9-b79d-4cbea20c4c5f",
   "metadata": {},
   "source": [
    "```{admonition} Requirements (if you want to run these Jupyter notebooks yourself)\n",
    ":class: warning\n",
    "To run the Jupyter Notebooks used for this calibration on your own computer, you should run them through the docker image that can be built from the repository (see [README.md](https://github.com/Klemet/Calibration_PnET_DIVERSE/blob/main/README.md)).\n",
    "```"
   ]
  },
  {
   "cell_type": "code",
   "execution_count": null,
   "id": "c45e59a9-1d3f-4cbd-a593-91cd9e850ac2",
   "metadata": {},
   "outputs": [],
   "source": []
  }
 ],
 "metadata": {
  "kernelspec": {
   "display_name": "Python 3 (ipykernel)",
   "language": "python",
   "name": "python3"
  },
  "language_info": {
   "codemirror_mode": {
    "name": "ipython",
    "version": 3
   },
   "file_extension": ".py",
   "mimetype": "text/x-python",
   "name": "python",
   "nbconvert_exporter": "python",
   "pygments_lexer": "ipython3",
   "version": "3.10.12"
  }
 },
 "nbformat": 4,
 "nbformat_minor": 5
}
