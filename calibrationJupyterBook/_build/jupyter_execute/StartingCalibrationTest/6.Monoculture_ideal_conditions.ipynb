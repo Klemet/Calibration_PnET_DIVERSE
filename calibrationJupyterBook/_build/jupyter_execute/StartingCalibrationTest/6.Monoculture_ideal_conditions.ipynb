{
 "cells": [
  {
   "cell_type": "markdown",
   "id": "68987a1d-cb98-4ad6-b345-f7c3bd04b91b",
   "metadata": {},
   "source": [
    "# 1st calibration step : Monoculture in ideal condition"
   ]
  },
  {
   "cell_type": "markdown",
   "id": "48d1b0c4-f154-45d5-92f2-29d0dcf60f6c",
   "metadata": {},
   "source": [
    "## Calibrating *Abies balsamea* in monoculture"
   ]
  },
  {
   "cell_type": "code",
   "execution_count": null,
   "id": "d55bd32c-7485-4790-b6ed-733a1f6fa2c4",
   "metadata": {},
   "outputs": [],
   "source": []
  },
  {
   "cell_type": "code",
   "execution_count": null,
   "id": "d4195d00-2a77-4dc4-8e30-88e37eaa3a36",
   "metadata": {},
   "outputs": [],
   "source": []
  }
 ],
 "metadata": {
  "kernelspec": {
   "display_name": "Python 3 (ipykernel)",
   "language": "python",
   "name": "python3"
  },
  "language_info": {
   "codemirror_mode": {
    "name": "ipython",
    "version": 3
   },
   "file_extension": ".py",
   "mimetype": "text/x-python",
   "name": "python",
   "nbconvert_exporter": "python",
   "pygments_lexer": "ipython3",
   "version": "3.10.12"
  }
 },
 "nbformat": 4,
 "nbformat_minor": 5
}