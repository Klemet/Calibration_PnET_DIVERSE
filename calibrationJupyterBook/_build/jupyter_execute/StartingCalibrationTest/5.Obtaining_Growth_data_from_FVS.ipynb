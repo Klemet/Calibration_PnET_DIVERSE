{
 "cells": [
  {
   "cell_type": "markdown",
   "id": "55f79a6c-4b99-4b90-9d44-3fee0f6bc79b",
   "metadata": {},
   "source": [
    "# Obtaining the growth data from the Forest Vegetation Simulator that will serve as reference for the calibration"
   ]
  },
  {
   "cell_type": "markdown",
   "id": "3b21d0e1-4d60-4896-8ca6-14d22e9c9583",
   "metadata": {},
   "source": [
    "The [Forest Vegetation Simulator](https://www.fs.usda.gov/fvs/) (FVS) model was develloped by the US department of Agriculture and Forestry (USDA). It aims to predict the growth and yield of forest stands based on internal equations derived for empirical data, but it also have options to be calibrated or adjusted based on the input data.\n",
    "\n",
    "Eric Gustafson recommands its use for the first step of the calibration procedure of PnET Succession (see [Gustafson and Miranda (2023)](./ReferencesAndData/Gustafson2024PnETUserGuide.pdf)), where we try to make sure that the growth curve of a new cohort matches what is seen in reality. This is because the curves produced by FVS can be easily compared to PnET, without the trouble that often comes when using real empirical data for such a procedure (as empirical data is messy, needs to be cleaned, has outliers, etc.). As such, using FVS to calibrate PnET is called by some \"meta-modelling\" - as empirical data has been used to create the FVS model, which is then used to calibrate PnET."
   ]
  },
  {
   "cell_type": "markdown",
   "id": "2a2a24c4-a911-46aa-abbc-d19cf88db65b",
   "metadata": {},
   "source": [
    "The FVS model is already compiled inside of the Docker image used to produced this document (see the [readme file](https://github.com/Klemet/Calibration_PnET_DIVERSE/blob/main/README.md) to deploy it easily on your computer), thanks to the code provided in [this issue](https://github.com/USDAForestService/ForestVegetationSimulator/issues/44#issuecomment-2483578729). What that means is that FVS can be run from Python functions that I created here (see [functionsForCalibration.py](./functionsForCalibration.py)) without any need for manually creating the intputs for a FVS simulation (or projection, as it is more usually called in the user guides); or to manually analyze the outputs of FVS."
   ]
  },
  {
   "cell_type": "markdown",
   "id": "9483f6f4-706f-4d35-8221-ed52bbcf9e3e",
   "metadata": {},
   "source": [
    "## Custom python function used to obtain growth data from FVS for a monoculture"
   ]
  },
  {
   "cell_type": "markdown",
   "id": "8439d432-c2c8-4e07-a767-637fa4e4894e",
   "metadata": {},
   "source": [
    "The function `FVS_on_simulationOnSingleEmptyStand` (inside [functionsForCalibration.py](./functionsForCalibration.py)) will be main one that we will be using to calibrate PnET.\n",
    "\n",
    "This function does the following :\n",
    "\n",
    "- It creates a MySQL database containg the stand and trees inputs necessary for a simple FVS simulation that contains only young trees of a single species (monoculture) in ideal or default conditions at the beginning.\n",
    "    - These initial conditions are used to replicate what happens when we initialize a new age cohort on an empty cell in PnET, in order to do the calibration on monoculture and ideal conditions.\n",
    "    - While the function allows the user to specify the number of trees, I will use 2471 trees (which will initialize a 1ha stand with 2471 trees) which is the value used in [Reese et al. 2024, supp. mat. A](https://cdnsciencepub.com/doi/10.1139/cjfr-2024-0085) (recommanded by [Brian Sturtevant](https://research.fs.usda.gov/about/people/sturtevant)).\n",
    "    - The function also allows the user to specify the \"Site index\" for the stand, which is a value representing the quality of the soil for the species (and is thus used to increase tree growth in the equations inside FVS). [Reese et al. 2024, supp. mat. A](https://cdnsciencepub.com/doi/10.1139/cjfr-2024-0085) tend to use high site index as the reference to calibrate PnET, which matches the advice of [Gustafson and Miranda (2023)](./ReferencesAndData/Gustafson2024PnETUserGuide.pdf) (who recommands that this first calibration step should be done on \"ideal conditions\"). As the Site Index is a value that varies from species to species, I recommand [this report from the USDA](https://www.fs.usda.gov/nrs/pubs/gtr/gtr_nc128.pdf) that shows ranges of values of Site Index in the USA for many species. I will also make several FVS simulations with lower site index values for comparison.\n",
    "- I creates a simple keyword file, which is the file that defines what stands are simulated, and how.\n",
    "    - The keyword file generated simply simulate one stand with a single tree age cohort, and output carbon estimates in the main output file (which are then used to derive aboveground biomass estimates we can compare to PnET)\n",
    "- It runs the simulation by calling the right FVS \"variant\" as indicated by the user\n",
    "    - There exists more than a dozen FVS variants for different regions of the united states, but also one for Ontario and one for British Columbia. I'll be using the Ontario variante here by default.\n",
    "- It reads the outputs to return a dictionnary of values that associates a year (e.g. 2033) to an aboveground biomass value. Convertion from carbon to biomass is explained in the code of the function.\n",
    "- The files generated for (inputs) and by (outputs) the FVS simulation are deleted by default (`clearFiles` argument), but this can be overriden."
   ]
  },
  {
   "cell_type": "markdown",
   "id": "9fb7c9c2-9fd8-4dfc-b333-33f3642e15d3",
   "metadata": {},
   "source": [
    "## Example"
   ]
  },
  {
   "cell_type": "code",
   "execution_count": 1,
   "id": "ff844c3a-8d63-444d-b3b1-8fef965114a0",
   "metadata": {},
   "outputs": [
    {
     "name": "stdout",
     "output_type": "stream",
     "text": [
      "The directory '/calibrationFolder/FVS_SingleEmptyStandRun' has been created.\n",
      "Creating Database with stand and tree ini values\n",
      "Creating Keyword file\n",
      "Launching FVS sim\n",
      "\n",
      "                  ON FVS METRIC VARIANT -- RV:20221118  \n",
      "\n",
      "\n",
      "        STAND = STAND_EMPTY                 MANAGEMENT CODE = NONE\n",
      "\n",
      "\n",
      "               SUMMARY STATISTICS (BASED ON TOTAL STAND AREA)\n",
      "----------------------------------------------------------------------------\n",
      "      START OF SIMULATION PERIOD    REMOVALS/HA     AFTER TREATMENT   GROWTH\n",
      "     ---------------------------- ----------------- ----------------    CU M\n",
      "     TREES         TOP        GTV TREES   GTV   GMV         TOP       PER YR\n",
      "YEAR   /HA  BA SDI  HT  QMD  CU M   /HA  CU M  CU M  BA SDI  HT  QMD ACC MOR\n",
      "---- ----- --- --- --- ---- ----- ----- ----- ----- --- --- --- ---- --- ---\n",
      "2023  2471   0   5   2  0.5     0     0     0     0   0   5   2  0.5   0   0\n",
      "2033  2402   2  74   3  2.9     0     0     0     0   2  74   3  2.9   0   0\n",
      "2043  2335   8 284   6  6.8     0     0     0     0   8 284   6  6.8   0   0\n",
      "2053  1871  19 511   9 11.3     0     0     0     0  19 511   9 11.3  12   0\n",
      "2063  1665  25 623  11 13.8   119     0     0     0  25 623  11 13.8   7   1\n",
      "2073  1510  31 724  13 16.1   174     0     0     0  31 724  13 16.1   7   3\n",
      "2083  1285  34 766  16 18.4   222     0     0     0  34 766  16 18.4   8   3\n",
      "2093  1112  38 803  17 20.7   274     0     0     0  38 803  17 20.7   8   3\n",
      "2103   986  41 835  19 22.9   324     0     0     0  41 835  19 22.9   9   3\n",
      "2113   882  44 867  21 25.1   375     0     0     0  44 867  21 25.1   8   3\n",
      "2123   803  47 895  22 27.2   424     0     0     0  47 895  22 27.2   9   4\n",
      "2133   729  50 924  23 29.5   478     0     0     0  50 924  23 29.5   9   4\n",
      "2143   667  53 951  25 31.7   531     0     0     0  53 951  25 31.7   0   0\n",
      "\n",
      "Reading Outputs\n",
      "Clearing files\n",
      "The directory '/calibrationFolder/FVS_SingleEmptyStandRun' has been deleted.\n",
      "The directory '/calibrationFolder/FVS_SingleEmptyStandRun' has been created.\n",
      "Creating Database with stand and tree ini values\n",
      "Creating Keyword file\n",
      "Launching FVS sim\n"
     ]
    },
    {
     "name": "stdout",
     "output_type": "stream",
     "text": [
      "\n",
      "                  ON FVS METRIC VARIANT -- RV:20221118  \n",
      "\n",
      "\n",
      "        STAND = STAND_EMPTY                 MANAGEMENT CODE = NONE\n",
      "\n",
      "\n",
      "               SUMMARY STATISTICS (BASED ON TOTAL STAND AREA)\n",
      "----------------------------------------------------------------------------\n",
      "      START OF SIMULATION PERIOD    REMOVALS/HA     AFTER TREATMENT   GROWTH\n",
      "     ---------------------------- ----------------- ----------------    CU M\n",
      "     TREES         TOP        GTV TREES   GTV   GMV         TOP       PER YR\n",
      "YEAR   /HA  BA SDI  HT  QMD  CU M   /HA  CU M  CU M  BA SDI  HT  QMD ACC MOR\n",
      "---- ----- --- --- --- ---- ----- ----- ----- ----- --- --- --- ---- --- ---\n",
      "2023  2471   0   5   2  0.5     0     0     0     0   0   5   2  0.5   0   0\n",
      "2033  2402   2  74   3  2.9     0     0     0     0   2  74   3  2.9   0   0\n",
      "2043  2335   8 284   6  6.8     0     0     0     0   8 284   6  6.8   0   0\n",
      "2053  1871  19 511   9 11.3     0     0     0     0  19 511   9 11.3  12   0\n",
      "2063  1670  25 620  11 13.7   118     0     0     0  25 620  11 13.7   6   1\n",
      "2073  1530  30 722  13 15.9   172     0     0     0  30 722  13 15.9   7   3\n",
      "2083  1307  34 761  16 18.1   220     0     0     0  34 761  16 18.1   8   3\n",
      "2093  1134  37 798  17 20.4   271     0     0     0  37 798  17 20.4   8   3\n",
      "2103  1011  40 828  19 22.5   319     0     0     0  40 828  19 22.5   8   3\n",
      "2113   907  43 860  21 24.6   369     0     0     0  43 860  21 24.6   8   3\n",
      "2123   825  46 887  22 26.6   417     0     0     0  46 887  22 26.6   9   4\n",
      "2133   749  49 914  23 28.8   470     0     0     0  49 914  23 28.8   9   4\n",
      "2143   687  52 941  25 30.9   522     0     0     0  52 941  25 30.9   0   0\n",
      "\n",
      "Reading Outputs\n",
      "Clearing files\n",
      "The directory '/calibrationFolder/FVS_SingleEmptyStandRun' has been deleted.\n",
      "The directory '/calibrationFolder/FVS_SingleEmptyStandRun' has been created.\n",
      "Creating Database with stand and tree ini values\n",
      "Creating Keyword file\n",
      "Launching FVS sim\n",
      "\n",
      "                  ON FVS METRIC VARIANT -- RV:20221118  \n",
      "\n",
      "\n",
      "        STAND = STAND_EMPTY                 MANAGEMENT CODE = NONE\n",
      "\n",
      "\n",
      "               SUMMARY STATISTICS (BASED ON TOTAL STAND AREA)\n",
      "----------------------------------------------------------------------------\n",
      "      START OF SIMULATION PERIOD    REMOVALS/HA     AFTER TREATMENT   GROWTH\n",
      "     ---------------------------- ----------------- ----------------    CU M\n",
      "     TREES         TOP        GTV TREES   GTV   GMV         TOP       PER YR\n",
      "YEAR   /HA  BA SDI  HT  QMD  CU M   /HA  CU M  CU M  BA SDI  HT  QMD ACC MOR\n",
      "---- ----- --- --- --- ---- ----- ----- ----- ----- --- --- --- ---- --- ---\n",
      "2023  2471   0   5   2  0.5     0     0     0     0   0   5   2  0.5   0   0\n",
      "2033  2402   2  74   3  2.9     0     0     0     0   2  74   3  2.9   0   0\n",
      "2043  2335   8 284   6  6.8     0     0     0     0   8 284   6  6.8   0   0\n",
      "2053  1871  19 511   9 11.3     0     0     0     0  19 511   9 11.3  12   0\n",
      "2063  1675  24 618  11 13.6   118     0     0     0  24 618  11 13.6   6   1\n",
      "2073  1537  30 714  13 15.7   170     0     0     0  30 714  13 15.7   7   2\n",
      "2083  1329  33 756  16 17.9   217     0     0     0  33 756  16 17.9   8   3\n",
      "2093  1159  37 791  17 20.0   267     0     0     0  37 791  17 20.0   8   3\n",
      "2103  1033  39 823  19 22.0   315     0     0     0  39 823  19 22.0   8   3\n",
      "2113   929  42 852  21 24.1   364     0     0     0  42 852  21 24.1   8   3\n",
      "2123   848  45 880  22 26.0   410     0     0     0  45 880  22 26.0   9   4\n",
      "2133   771  48 907  23 28.1   462     0     0     0  48 907  23 28.1   9   4\n",
      "2143   709  51 932  24 30.1   513     0     0     0  51 932  24 30.1   0   0\n",
      "\n",
      "Reading Outputs\n",
      "Clearing files\n",
      "The directory '/calibrationFolder/FVS_SingleEmptyStandRun' has been deleted.\n"
     ]
    }
   ],
   "source": [
    "# We import the functions\n",
    "from functionsForCalibration import *\n",
    "\n",
    "# We run FVS three times to simulate a basalm fir monoculture on an initially empty stand, and specify all of the arguments\n",
    "\n",
    "basalmFir_LowSiteIndex = FVS_on_simulationOnSingleEmptyStand(Latitude = 47.22029, # Atikamekw village of Manawan, center of one of our study areas\n",
    "                                    Longitude = -74.38606, # Atikamekw village of Manawan, center of one of our study areas\n",
    "                                    Slope = 0, # We want ideal/neutral conditions, so no slope\n",
    "                                    Elevation = 0, # We want ideal/neutral conditions, so no elevation \n",
    "                                    treeSpeciesCode = \"BF\", # Balsam fir. All codes are available at https://github.com/USDAForestService/ForestVegetationSimulator/blob/5c29887e4168fd8182c1b2bad762f900b7d7e90c/canada/on/grinit.f#L43\n",
    "                                    numberOfTrees = 2471, # To replicate stocking density from  https://cdnsciencepub.com/doi/10.1139/cjfr-2024-0085, supp. mat. A\n",
    "                                    siteIndex = 20, # Low site index for Balsam fir. See https://www.fs.usda.gov/nrs/pubs/gtr/gtr_nc128.pdf\n",
    "                                    variant = \"FVSon\",\n",
    "                                    folderForFiles = \"/calibrationFolder/FVS_SingleEmptyStandRun\",\n",
    "                                    clearFiles = True)\n",
    "\n",
    "basalmFir_averageSiteIndex = FVS_on_simulationOnSingleEmptyStand(Latitude = 47.22029, # Atikamekw village of Manawan, center of one of our study areas\n",
    "                                    Longitude = -74.38606, # Atikamekw village of Manawan, center of one of our study areas\n",
    "                                    Slope = 0, # We want ideal/neutral conditions, so no slope\n",
    "                                    Elevation = 0, # We want ideal/neutral conditions, so no elevation \n",
    "                                    treeSpeciesCode = \"BF\", # Balsam fir. All codes are available at https://github.com/USDAForestService/ForestVegetationSimulator/blob/5c29887e4168fd8182c1b2bad762f900b7d7e90c/canada/on/grinit.f#L43\n",
    "                                    numberOfTrees = 2471, # To replicate stocking density from  https://cdnsciencepub.com/doi/10.1139/cjfr-2024-0085, supp. mat. A\n",
    "                                    siteIndex = 45, # Average site index for Balsam fir. See https://www.fs.usda.gov/nrs/pubs/gtr/gtr_nc128.pdf\n",
    "                                    variant = \"FVSon\",\n",
    "                                    folderForFiles = \"/calibrationFolder/FVS_SingleEmptyStandRun\",\n",
    "                                    clearFiles = True)\n",
    "\n",
    "basalmFir_HighSiteIndex = FVS_on_simulationOnSingleEmptyStand(Latitude = 47.22029, # Atikamekw village of Manawan, center of one of our study areas\n",
    "                                    Longitude = -74.38606, # Atikamekw village of Manawan, center of one of our study areas\n",
    "                                    Slope = 0, # We want ideal/neutral conditions, so no slope\n",
    "                                    Elevation = 0, # We want ideal/neutral conditions, so no elevation \n",
    "                                    treeSpeciesCode = \"BF\", # Balsam fir. All codes are available at https://github.com/USDAForestService/ForestVegetationSimulator/blob/5c29887e4168fd8182c1b2bad762f900b7d7e90c/canada/on/grinit.f#L43\n",
    "                                    numberOfTrees = 2471, # To replicate stocking density from  https://cdnsciencepub.com/doi/10.1139/cjfr-2024-0085, supp. mat. A\n",
    "                                    siteIndex = 70, # High site index for Balsam fir. See https://www.fs.usda.gov/nrs/pubs/gtr/gtr_nc128.pdf\n",
    "                                    variant = \"FVSon\",\n",
    "                                    folderForFiles = \"/calibrationFolder/FVS_SingleEmptyStandRun\",\n",
    "                                    clearFiles = True)"
   ]
  },
  {
   "cell_type": "code",
   "execution_count": 2,
   "id": "3b6f2ab3-d741-42e0-aaa2-d625714ac8bb",
   "metadata": {},
   "outputs": [
    {
     "name": "stdout",
     "output_type": "stream",
     "text": [
      "{2023: 0.4, 2033: 2.6, 2043: 21.6, 2053: 61.0, 2063: 86.4, 2073: 113.6, 2083: 134.4, 2093: 155.6, 2103: 175.8, 2113: 196.6, 2123: 216.8, 2133: 239.6}\n"
     ]
    }
   ],
   "source": [
    "# We print the outputs of one of the simulations\n",
    "print(basalmFir_HighSiteIndex)"
   ]
  },
  {
   "cell_type": "markdown",
   "id": "8c98c281-f99b-4277-b0a2-dd77124fa1db",
   "metadata": {},
   "source": [
    "```{admonition} Other uses of FVS\n",
    ":class: tip\n",
    "FVS can also output belowground biomass (both live and dead) using the CARBPRET (carbon report) keyword.\n",
    "This can be useful to paramterize several parameters of PnET Succession related to the biomass of roots.\n",
    "```\n",
    "\n",
    "```{admonition} Learning more about FVS\n",
    ":class: note\n",
    "FVS is a complex model with more than a decade of improvments. The existing Python functions present here should be enough to calibrate PnET Succession; but if you need more information about variants, possible outputs and inputs, you can take a look at the many [user guides](https://www.fs.usda.gov/fvs/documents/guides.shtml) that are available online.\n",
    "```\n",
    "\n"
   ]
  },
  {
   "cell_type": "code",
   "execution_count": null,
   "id": "006b5508-a810-45ca-b90f-9421839d8c8b",
   "metadata": {},
   "outputs": [],
   "source": []
  }
 ],
 "metadata": {
  "kernelspec": {
   "display_name": "Python 3 (ipykernel)",
   "language": "python",
   "name": "python3"
  },
  "language_info": {
   "codemirror_mode": {
    "name": "ipython",
    "version": 3
   },
   "file_extension": ".py",
   "mimetype": "text/x-python",
   "name": "python",
   "nbconvert_exporter": "python",
   "pygments_lexer": "ipython3",
   "version": "3.10.12"
  }
 },
 "nbformat": 4,
 "nbformat_minor": 5
}