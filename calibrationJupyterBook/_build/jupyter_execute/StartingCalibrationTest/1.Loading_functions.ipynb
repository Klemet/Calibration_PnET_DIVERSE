{
 "cells": [
  {
   "cell_type": "markdown",
   "id": "dc0ebe48-1b76-4793-8527-1a939308b924",
   "metadata": {},
   "source": [
    "# Loading functions and packages"
   ]
  },
  {
   "cell_type": "markdown",
   "id": "5b73da64-11a9-4e1b-a741-dedfdecc7775",
   "metadata": {},
   "source": [
    "The following code sections are used to load the different functions I wrote to be able to parse, edit, write parameter for small LANDIS-II PnET simulations; but also to read the outputs and plot them. **These functions are essential to automatise the calibration process used in this repository**, so be sure to load them.\n",
    "\n",
    "The functions are written in the file [`functionsForCalibration.py`](./functionsForCalibration.py).\n",
    "\n",
    "```{tip}\n",
    "If you're missing a package in the docker image that you want to use, add it to `Clean_Docker_LANDIS-II_8_AllExtensions_PnETCalibration\\files_to_help_compilation\\pip_requirements.txt` and rebuild this docker image.\n",
    "\n",
    "You can also let pip choose the right version and then \"freeze\" it by installing the package in the interactive console of the docker image (just stop jupyter lab beforehand), then use `pip install MyPackageName`, then use `pip freeze` to output the package list with the version names. You can then just copy paste the output of `pip freeze` in the `pip_requirements.txt` file and rebuild the image.\n",
    "```\n",
    "\n",
    "```{important}\n",
    "**All functions have a docstring that you can read with** `help(<Name of the function>)` ! Use it if you're lost.\n",
    "```"
   ]
  },
  {
   "cell_type": "code",
   "execution_count": 1,
   "id": "607d506c-44b5-42da-a621-41f1c187950c",
   "metadata": {},
   "outputs": [],
   "source": [
    "# Loading functions\n",
    "from functionsForCalibration import *\n",
    "import shutil"
   ]
  },
  {
   "cell_type": "code",
   "execution_count": null,
   "id": "1bf52e85-6329-4f5a-90ba-9d6ac29d21c6",
   "metadata": {},
   "outputs": [],
   "source": []
  }
 ],
 "metadata": {
  "kernelspec": {
   "display_name": "Python 3 (ipykernel)",
   "language": "python",
   "name": "python3"
  },
  "language_info": {
   "codemirror_mode": {
    "name": "ipython",
    "version": 3
   },
   "file_extension": ".py",
   "mimetype": "text/x-python",
   "name": "python",
   "nbconvert_exporter": "python",
   "pygments_lexer": "ipython3",
   "version": "3.10.12"
  }
 },
 "nbformat": 4,
 "nbformat_minor": 5
}