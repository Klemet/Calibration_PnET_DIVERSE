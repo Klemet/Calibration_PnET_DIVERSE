{
 "cells": [
  {
   "cell_type": "markdown",
   "id": "9e2d598b-5bdc-4def-b411-5ebe9253e781",
   "metadata": {},
   "source": [
    "# Setting up the calibration landscape (ecoregions, initial communities, climate etc.)"
   ]
  },
  {
   "cell_type": "markdown",
   "id": "c0d847bc-6908-447d-9c42-0ae8504986e7",
   "metadata": {},
   "source": [
    "Now that we have initial parameters for our species, we need to define the landscape in which the calibration will take place.\n",
    "\n",
    "*Will be written soon*."
   ]
  }
 ],
 "metadata": {
  "kernelspec": {
   "display_name": "Python 3 (ipykernel)",
   "language": "python",
   "name": "python3"
  },
  "language_info": {
   "codemirror_mode": {
    "name": "ipython",
    "version": 3
   },
   "file_extension": ".py",
   "mimetype": "text/x-python",
   "name": "python",
   "nbconvert_exporter": "python",
   "pygments_lexer": "ipython3",
   "version": "3.10.12"
  }
 },
 "nbformat": 4,
 "nbformat_minor": 5
}
