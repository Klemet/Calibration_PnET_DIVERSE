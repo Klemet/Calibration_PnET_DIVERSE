{
 "cells": [
  {
   "cell_type": "code",
   "execution_count": null,
   "id": "33875b5f-d2d9-4e26-995d-71684a0e37fc",
   "metadata": {
    "editable": true,
    "slideshow": {
     "slide_type": ""
    },
    "tags": []
   },
   "outputs": [
    {
     "name": "stdout",
     "output_type": "stream",
     "text": [
      "\u001b[32m\u001b[1mRunning Jupyter-Book v1.0.4.post1\u001b[0m\n",
      "\u001b[34m\u001b[1mSource Folder: \u001b[0m/calibrationFolder/calibrationJupyterBook\n",
      "\u001b[34m\u001b[1mConfig Path: \u001b[0m/calibrationFolder/calibrationJupyterBook/_config.yml\n",
      "\u001b[34m\u001b[1mOutput Path: \u001b[0m/calibrationFolder/calibrationJupyterBook/_build/html\n",
      "\u001b[01mRunning Sphinx v7.4.7\u001b[39;49;00m\n",
      "\u001b[01mloading translations [en]... \u001b[39;49;00mdone\n",
      "[etoc] Changing master_doc to 'intro'\n",
      "[etoc] Excluded 3 extra file(s) not in toc\n",
      "checking bibtex cache... up to date \u001b[39;49;00m\n",
      "done\n",
      "\u001b[01mmyst v3.0.1:\u001b[39;49;00m MdParserConfig(commonmark_only=False, gfm_only=False, enable_extensions={'colon_fence', 'tasklist', 'substitution', 'dollarmath', 'linkify'}, disable_syntax=[], all_links_external=False, links_external_new_tab=False, url_schemes=('mailto', 'http', 'https'), ref_domains=None, fence_as_directive=set(), number_code_blocks=[], title_to_header=False, heading_anchors=0, heading_slug_func=None, html_meta={}, footnote_transition=True, words_per_minute=200, substitutions={}, linkify_fuzzy_links=True, dmath_allow_labels=True, dmath_allow_space=True, dmath_allow_digits=True, dmath_double_inline=False, update_mathjax=True, mathjax_classes='tex2jax_process|mathjax_process|math|output_area', enable_checkboxes=False, suppress_warnings=[], highlight_code_blocks=True)\n",
      "\u001b[01mmyst-nb v1.2.0:\u001b[39;49;00m NbParserConfig(custom_formats={}, metadata_key='mystnb', cell_metadata_key='mystnb', kernel_rgx_aliases={}, eval_name_regex='^[a-zA-Z_][a-zA-Z0-9_]*$', execution_mode='auto', execution_cache_path='', execution_excludepatterns=[], execution_timeout=9000, execution_in_temp=False, execution_allow_errors=False, execution_raise_on_error=False, execution_show_tb=False, merge_streams=False, render_plugin='default', remove_code_source=False, remove_code_outputs=False, code_prompt_show='Show code cell {type}', code_prompt_hide='Hide code cell {type}', number_source_lines=False, output_stderr='show', render_text_lexer='myst-ansi', render_error_lexer='ipythontb', render_image_options={}, render_figure_options={}, render_markdown_format='commonmark', output_folder='build', append_css=True, metadata_to_fm=False)\n",
      "Using jupyter-cache at: /calibrationFolder/calibrationJupyterBook/_build/.jupyter_cache\n",
      "\u001b[01msphinx-multitoc-numbering v0.1.3:\u001b[39;49;00m Loaded\n",
      "\u001b[01mbuilding [mo]: \u001b[39;49;00mtargets for 0 po files that are out of date\n",
      "\u001b[01mwriting output... \u001b[39;49;00m\n",
      "\u001b[01mbuilding [html]: \u001b[39;49;00mtargets for 8 source files that are out of date\n",
      "\u001b[01mupdating environment: \u001b[39;49;00m[config changed ('exclude_patterns')] 8 added, 0 changed, 0 removed\n",
      "/calibrationFolder/calibrationJupyterBook/StartingCalibrationTest/1.Loading_functions.ipynb: Executing notebook using local CWD [mystnb]\n",
      "/calibrationFolder/calibrationJupyterBook/StartingCalibrationTest/1.Loading_functions.ipynb: Executed notebook in 3.15 seconds [mystnb]\n",
      "/calibrationFolder/calibrationJupyterBook/StartingCalibrationTest/2.Test_sim_functions.ipynb: Executing notebook using local CWD [mystnb]\n",
      "/calibrationFolder/calibrationJupyterBook/StartingCalibrationTest/2.Test_sim_functions.ipynb: Executed notebook in 13.83 seconds [mystnb]\n",
      "/calibrationFolder/calibrationJupyterBook/StartingCalibrationTest/3.Initial_Species_Parameters.ipynb: Executing notebook using local CWD [mystnb]\n",
      "/calibrationFolder/calibrationJupyterBook/StartingCalibrationTest/3.Initial_Species_Parameters.ipynb: Executed notebook in 3.40 seconds [mystnb]\n",
      "/calibrationFolder/calibrationJupyterBook/StartingCalibrationTest/4.Setting_up_calibration_Landscape.ipynb: Executing notebook using local CWD [mystnb]\n"
     ]
    }
   ],
   "source": [
    "# Navigate to the directory where the script is located\n",
    "!cd \"$(dirname \"$0\")\"\n",
    "\n",
    "# Build the Jupyter Book\n",
    "!jupyter-book build calibrationJupyterBook/\n",
    "\n",
    "# Remove current html files\n",
    "!rm -r ./docs/*\n",
    "\n",
    "# Copy the built HTML files to the docs directory\n",
    "!cp -r ./calibrationJupyterBook/_build/html/* ./docs\n"
   ]
  },
  {
   "cell_type": "code",
   "execution_count": null,
   "id": "114f80ef-ec53-4425-85ca-22ea2992e946",
   "metadata": {
    "editable": true,
    "slideshow": {
     "slide_type": ""
    },
    "tags": []
   },
   "outputs": [],
   "source": []
  },
  {
   "cell_type": "markdown",
   "id": "363383eb-7e46-45ef-bbdb-b64a56626661",
   "metadata": {},
   "source": []
  }
 ],
 "metadata": {
  "kernelspec": {
   "display_name": "Python 3 (ipykernel)",
   "language": "python",
   "name": "python3"
  },
  "language_info": {
   "codemirror_mode": {
    "name": "ipython",
    "version": 3
   },
   "file_extension": ".py",
   "mimetype": "text/x-python",
   "name": "python",
   "nbconvert_exporter": "python",
   "pygments_lexer": "ipython3",
   "version": "3.10.12"
  }
 },
 "nbformat": 4,
 "nbformat_minor": 5
}
