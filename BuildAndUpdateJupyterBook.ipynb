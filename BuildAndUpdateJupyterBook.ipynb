{
 "cells": [
  {
   "cell_type": "code",
   "execution_count": 1,
   "id": "33875b5f-d2d9-4e26-995d-71684a0e37fc",
   "metadata": {
    "editable": true,
    "slideshow": {
     "slide_type": ""
    },
    "tags": []
   },
   "outputs": [
    {
     "name": "stdout",
     "output_type": "stream",
     "text": [
      "\u001b[0m📭 No file exports found.\u001b[0m\n",
      "\u001b[0m\u001b[2mYou may need to specify either:\u001b[22m\u001b[0m\n",
      "\u001b[0m\u001b[2m  - an export format, e.g. `jupyter book build --pdf`\u001b[22m\u001b[0m\n",
      "\u001b[0m\u001b[2m  - a file to export, e.g. `jupyter book build my-file.md`\u001b[22m\u001b[0m\n"
     ]
    }
   ],
   "source": [
    "# Navigate to the directory where the script is located\n",
    "!cd \"$(dirname \"$0\")\"/calibrationJupyterBook\n",
    "\n",
    "# Build the Jupyter Book\n",
    "!jupyter book build\n",
    "\n",
    "# Remove current html files\n",
    "!rm -r ./docs/*\n",
    "\n",
    "# Copy the built HTML files to the docs directory\n",
    "!cp -r ./calibrationJupyterBook/_build/html/* ./docs\n"
   ]
  },
  {
   "cell_type": "code",
   "execution_count": 2,
   "id": "5c62aefd-ec83-4cb7-aea1-d24a54eabc36",
   "metadata": {},
   "outputs": [
    {
     "name": "stdout",
     "output_type": "stream",
     "text": [
      "/calibrationFolder/calibrationJupyterBook\n",
      "env: BASE_URL=https://klemet.github.io/Calibration_PnET_DIVERSE\n",
      "StartingCalibrationTest  intro.md  references.bib\n",
      "_build\t\t\t myst.yml  requirements.txt\n",
      "\u001b[33m⚠️  StartingCalibrationTest/0.Some_important_notions.ipynb:8 unexpected body provided for directive: image\u001b[39m\n",
      "\u001b[33m⚠️  StartingCalibrationTest/0.Some_important_notions.ipynb:8 unexpected body provided for directive: image\u001b[39m\n",
      "\u001b[0m🌎 Building Jupyter Book (via myst) site\u001b[0m\n",
      "\u001b[0mBASE_URL environment overwrite is set\u001b[0m\n",
      "\u001b[0mBuilding the site with a baseurl of \"https://klemet.github.io/Calibration_PnET_DIVERSE\"\u001b[0m\n",
      "\u001b[0m📖 Built StartingCalibrationTest/1.Loading_functions.ipynb in 67 ms.\u001b[0m\n",
      "\u001b[0m📖 Built intro.md in 2.48 s.\u001b[0m\n",
      "\u001b[0m🪄  Linked 6 DOIs from doi.org in 25 ms for StartingCalibrationTest/3.Initial_Species_Parameters.ipynb\u001b[0m\n",
      "\u001b[0m📖 Built StartingCalibrationTest/3.Initial_Species_Parameters.ipynb in 356 ms.\u001b[0m\n",
      "\u001b[0m📖 Built StartingCalibrationTest/Intro_CalibrationTest.ipynb in 377 ms.\u001b[0m\n",
      "\u001b[0m📖 Built StartingCalibrationTest/2.Test_sim_functions.ipynb in 383 ms.\u001b[0m\n",
      "\u001b[0m🪄  Linked 3 DOIs from doi.org in 16 ms for StartingCalibrationTest/0.Some_important_notions.ipynb\u001b[0m\n",
      "\u001b[0m📖 Built StartingCalibrationTest/0.Some_important_notions.ipynb in 479 ms.\u001b[0m\n",
      "\u001b[0m🪄  Linked 5 DOIs from doi.org in 21 ms for StartingCalibrationTest/4.Getting_the_empirical_data.ipynb\u001b[0m\n",
      "\u001b[0m📖 Built StartingCalibrationTest/4.Getting_the_empirical_data.ipynb in 577 ms.\u001b[0m\n",
      "\u001b[0m📖 Built StartingCalibrationTest/6.Monoculture_ideal_conditions.ipynb in 640 ms.\u001b[0m\n",
      "\u001b[0m🪄  Linked 1 DOI from doi.org in 7.8 ms for StartingCalibrationTest/5.Getting_climate_and_soil_data.ipynb\u001b[0m\n",
      "\u001b[0m📖 Built StartingCalibrationTest/5.Getting_climate_and_soil_data.ipynb in 675 ms.\u001b[0m\n",
      "\u001b[33m⚠️  StartingCalibrationTest/3.Initial_Species_Parameters.ipynb:5 Legacy syntax used for link target, please prepend a '#' to your link url: \"source_param_values\"\u001b[39m\n",
      "\u001b[33m   \u001b[0m\u001b[2mThe link target should be of the form `[](#target)`, including the `#` sign.\u001b[22m\u001b[0m\u001b[39m\n",
      "\u001b[33m\u001b[0m\u001b[2mThis may be deprecated in the future.\u001b[22m\u001b[0m\u001b[39m\n",
      "\u001b[33m⚠️  StartingCalibrationTest/3.Initial_Species_Parameters.ipynb:3 Legacy syntax used for link target, please prepend a '#' to your link url: \"source_param_values\"\u001b[39m\n",
      "\u001b[33m   \u001b[0m\u001b[2mThe link target should be of the form `[](#target)`, including the `#` sign.\u001b[22m\u001b[0m\u001b[39m\n",
      "\u001b[33m\u001b[0m\u001b[2mThis may be deprecated in the future.\u001b[22m\u001b[0m\u001b[39m\n",
      "\u001b[33m⚠️  StartingCalibrationTest/3.Initial_Species_Parameters.ipynb:3 Legacy syntax used for link target, please prepend a '#' to your link url: \"source_param_values\"\u001b[39m\n",
      "\u001b[33m   \u001b[0m\u001b[2mThe link target should be of the form `[](#target)`, including the `#` sign.\u001b[22m\u001b[0m\u001b[39m\n",
      "\u001b[33m\u001b[0m\u001b[2mThis may be deprecated in the future.\u001b[22m\u001b[0m\u001b[39m\n",
      "\u001b[33m⚠️  StartingCalibrationTest/3.Initial_Species_Parameters.ipynb:3 Legacy syntax used for link target, please prepend a '#' to your link url: \"source_param_values\"\u001b[39m\n",
      "\u001b[33m   \u001b[0m\u001b[2mThe link target should be of the form `[](#target)`, including the `#` sign.\u001b[22m\u001b[0m\u001b[39m\n",
      "\u001b[33m\u001b[0m\u001b[2mThis may be deprecated in the future.\u001b[22m\u001b[0m\u001b[39m\n",
      "\u001b[33m⚠️  StartingCalibrationTest/4.Getting_the_empirical_data.ipynb:4 Link text is empty for <https://nfi.nfis.org/en/>\u001b[39m\n",
      "\u001b[33m⚠️  StartingCalibrationTest/4.Getting_the_empirical_data.ipynb:5 Link text is empty for <https://open.canada.ca/data/en/dataset/ec9e2659-1c29-4ddb-87a2-6aced147a990>\u001b[39m\n",
      "\u001b[33m⚠️  StartingCalibrationTest/4.Getting_the_empirical_data.ipynb:8 Link text is empty for <./6.Monoculture_ideal_conditions.py>\u001b[39m\n",
      "\u001b[33m⚠️  StartingCalibrationTest/5.Getting_climate_and_soil_data.ipynb:3 Link text is empty for <./5.Other_important_data_before_starting.ipynb>\u001b[39m\n",
      "\u001b[0m📚 Built 9 pages for project in 3.76 s.\u001b[0m\n",
      "\u001b[0m\u001b[0m\n",
      "\u001b[0m\u001b[0m\n",
      "\u001b[0m\t✨✨✨  Starting Book Theme  ✨✨✨\u001b[0m\n",
      "\u001b[0m\u001b[0m\n",
      "\u001b[0m\u001b[0m\n",
      "\u001b[0m\u001b[0m\n",
      "\u001b[0m🔌 Server started on port 3000!  🥳 🎉\u001b[0m\n",
      "\u001b[0m\u001b[0m\n",
      "\u001b[0m\u001b[0m\n",
      "\u001b[0m\t👉  \u001b[32mhttp://localhost:3000\u001b[39m  👈\u001b[0m\n",
      "\u001b[0m\u001b[0m\n",
      "\u001b[0m\u001b[0m\n",
      "\u001b[0m💌 GET  /startingcalibrationtest/intro-calibrationtest 200 - - 79.344 ms\u001b[0m\n",
      "\u001b[0mGET /index 200 - - 80.267 ms\u001b[0m\n",
      "\u001b[0mGET /startingcalibrationtest/loading-functions 200 - - 100.644 ms\u001b[0m\n",
      "\u001b[0mGET /startingcalibrationtest/test-sim-functions 200 - - 108.880 ms\u001b[0m\n",
      "\u001b[0mGET /startingcalibrationtest/some-important-notions 200 - - 95.912 ms\u001b[0m\n",
      "\u001b[0m💌 GET  /startingcalibrationtest/getting-climate-and-soil-data 200 - - 156.048 ms\u001b[0m\n",
      "\u001b[0mGET /index.json 200 - - 175.714 ms\u001b[0m\n",
      "\u001b[0mGET /startingcalibrationtest/initial-species-parameters 200 - - 141.946 ms\u001b[0m\n",
      "\u001b[0mGET /startingcalibrationtest/monoculture-ideal-conditions 200 - - 188.982 ms\u001b[0m\n",
      "\u001b[0mGET /startingcalibrationtest/getting-the-empirical-data 200 - - 184.983 ms\u001b[0m\n",
      "\u001b[0m💌 GET  /startingcalibrationtest.intro-calibrationtest.json 200 - - 55.149 ms\u001b[0m\n",
      "\u001b[0mGET /startingcalibrationtest.loading-functions.json 200 - - 45.865 ms\u001b[0m\n",
      "\u001b[0mGET /startingcalibrationtest.test-sim-functions.json 200 - - 38.487 ms\u001b[0m\n",
      "\u001b[0m💌 GET  /startingcalibrationtest.some-important-notions.json 200 - - 49.640 ms\u001b[0m\n",
      "\u001b[0m💌 GET  /startingcalibrationtest.initial-species-parameters.json 200 - - 61.164 ms\u001b[0m\n",
      "\u001b[0mGET /robots.txt 200 - - 1.988 ms\u001b[0m\n",
      "\u001b[0m💌 GET  /startingcalibrationtest.getting-climate-and-soil-data.json 200 - - 50.294 ms\u001b[0m\n",
      "\u001b[0mGET /startingcalibrationtest.getting-the-empirical-data.json 200 - - 61.802 ms\u001b[0m\n",
      "\u001b[0mGET /myst-theme.css 200 - - 56.150 ms\u001b[0m\n",
      "\u001b[0mGET /startingcalibrationtest.monoculture-ideal-conditions.json 200 - - 73.998 ms\u001b[0m\n",
      "\u001b[0m💌 GET  /favicon.ico 200 - - 211.278 ms\u001b[0m\n"
     ]
    }
   ],
   "source": [
    "%cd /calibrationFolder/calibrationJupyterBook\n",
    "\n",
    "%env BASE_URL=https://klemet.github.io/Calibration_PnET_DIVERSE\n",
    "\n",
    "!ls\n",
    "\n",
    "!jupyter book build --html\n",
    "\n",
    "!rm -rf ../docs/*\n",
    "\n",
    "!mv ./_build/html/* ../docs"
   ]
  },
  {
   "cell_type": "markdown",
   "id": "21210001-5c4d-4c49-8fea-c5c816dd1918",
   "metadata": {},
   "source": []
  }
 ],
 "metadata": {
  "kernelspec": {
   "display_name": "Python 3 (ipykernel)",
   "language": "python",
   "name": "python3"
  },
  "language_info": {
   "codemirror_mode": {
    "name": "ipython",
    "version": 3
   },
   "file_extension": ".py",
   "mimetype": "text/x-python",
   "name": "python",
   "nbconvert_exporter": "python",
   "pygments_lexer": "ipython3",
   "version": "3.10.12"
  }
 },
 "nbformat": 4,
 "nbformat_minor": 5
}
