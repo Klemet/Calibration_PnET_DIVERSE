











# Loading functions
from parsingFunctions import *
import shutil

# Loading location of apptainer file
apptainerLANDISPath = r"/mnt/d/OneDrive - UQAM/1 - Projets/Post-Doc - Docker and Apptainer Linux v8/Clean_Docker_LANDIS-II_7_AllExtensions_Manawan/landis-ii_v7_linux_manawan.sif"


# Loading all of the parameters from the simple one-cell sim 
PnETGitHub_OneCellSim = parse_All_LANDIS_PnET_Files(r"D:\OneDrive - UQAM\1 - Projets\Post-Doc - Parametrer LANDIS-II pour DIVERSE\4 - Beginning PnET Calibration\Calibration_PnET_DIVERSE\StartingCalibrationTest\SimulationFiles\PnETGitHub_OneCellSim")
# print(PnETGitHub_OneCellSim)


# Testing the writing of all the files in a test folder

testScenarioPath = r"D:\Clement\Desktop\TEMP\TestScenarioPnET//"

write_LANDIS_SimpleParameterFile(testScenarioPath + "scenario.txt", PnETGitHub_OneCellSim["scenario.txt"])
write_LANDIS_SpeciesCoreFile(testScenarioPath + "species.txt", PnETGitHub_OneCellSim["species.txt"])
write_LANDIS_MainEcoregionsFile(testScenarioPath + "ecoregion.txt", PnETGitHub_OneCellSim["ecoregion.txt"])
write_LANDIS_SimpleParameterFile(testScenarioPath + "initial-communities.txt", PnETGitHub_OneCellSim["initial-communities.txt"])
write_climate_data(testScenarioPath + "Climate.txt", PnETGitHub_OneCellSim["Climate.txt"])
write_PnET_ComplexTableParameterfile(testScenarioPath + "EcoregionParameters.txt", PnETGitHub_OneCellSim["EcoregionParameters.txt"])
write_LANDIS_SimpleParameterFile(testScenarioPath + "pnetsuccession.txt", PnETGitHub_OneCellSim["pnetsuccession.txt"])
write_LANDIS_SimpleParameterFile(testScenarioPath + "PnETGenericParameters.txt", PnETGitHub_OneCellSim["PnETGenericParameters.txt"])
write_PnET_ComplexTableParameterfile(testScenarioPath + "SpeciesParameters.txt", PnETGitHub_OneCellSim["SpeciesParameters.txt"])
write_LANDIS_SimpleParameterFile(testScenarioPath + "biomass.outputPnET.txt", PnETGitHub_OneCellSim["biomass.outputPnET.txt"])
write_LANDIS_SimpleParameterFile(testScenarioPath + "PnEToutputsites_onecell.txt", PnETGitHub_OneCellSim["PnEToutputsites_onecell.txt"])
write_PnET_ComplexTableParameterfile(testScenarioPath + "disturbance_reductions.txt", PnETGitHub_OneCellSim["disturbance_reductions.txt"])

shutil.copy(PnETGitHub_OneCellSim["ecoregion.img"], testScenarioPath)
shutil.copy(PnETGitHub_OneCellSim["initial-communities.img"], testScenarioPath)


import subprocess

# def runLANDIS_Simulation(apptainerLANDISPath, simulationFolder, scenarioFileName):
#     # command = ("apptainer exec -C -B " + simulationFolder
#     #            + " " + apptainerLANDISPath
#     #            + " /bin/sh -c \"cd \'" +  simulationFolder + "\' && dotnet /bin/LANDIS_Linux/build/Release/Landis.Console.dll " + scenarioFileName + "\"")
#     command = ["echo", "HELLO"]
#     landisSIM = subprocess.run(command, capture_output=True, text=True)
#     print(result.stdout)

# runLANDIS_Simulation(apptainerLANDISPath,
#                      "/mnt/d/Clement/Desktop/TEMP/TestScenarioPnET",
#                      "scenario.txt")

def echo_hello():
    result = subprocess.run(["echo", "HELLO"], capture_output=True, text=True)
    return result.stdout.strip()

# Usage
print(echo_hello())


!echo HELLO


import sys
print(sys.executable)



