{
 "cells": [
  {
   "cell_type": "code",
   "execution_count": 3,
   "id": "33875b5f-d2d9-4e26-995d-71684a0e37fc",
   "metadata": {},
   "outputs": [
    {
     "name": "stdout",
     "output_type": "stream",
     "text": [
      "\u001b[32m\u001b[1mRunning Jupyter-Book v1.0.3\u001b[0m\n",
      "\u001b[34m\u001b[1mSource Folder: \u001b[0m/calibrationFolder/calibrationJupyterBook\n",
      "\u001b[34m\u001b[1mConfig Path: \u001b[0m/calibrationFolder/calibrationJupyterBook/_config.yml\n",
      "\u001b[34m\u001b[1mOutput Path: \u001b[0m/calibrationFolder/calibrationJupyterBook/_build/html\n",
      "\u001b[01mRunning Sphinx v7.4.7\u001b[39;49;00m\n",
      "\u001b[01mloading translations [en]... \u001b[39;49;00mdone\n",
      "[etoc] Changing master_doc to 'intro'\n",
      "checking bibtex cache... out of date\n",
      "parsing bibtex file /calibrationFolder/calibrationJupyterBook/references.bib... parsed 5 entries\n",
      "\u001b[01mmyst v2.0.0:\u001b[39;49;00m MdParserConfig(commonmark_only=False, gfm_only=False, enable_extensions={'dollarmath', 'tasklist', 'linkify', 'colon_fence', 'substitution'}, disable_syntax=[], all_links_external=False, url_schemes=('mailto', 'http', 'https'), ref_domains=None, fence_as_directive=set(), number_code_blocks=[], title_to_header=False, heading_anchors=0, heading_slug_func=None, html_meta={}, footnote_transition=True, words_per_minute=200, substitutions={}, linkify_fuzzy_links=True, dmath_allow_labels=True, dmath_allow_space=True, dmath_allow_digits=True, dmath_double_inline=False, update_mathjax=True, mathjax_classes='tex2jax_process|mathjax_process|math|output_area', enable_checkboxes=False, suppress_warnings=[], highlight_code_blocks=True)\n",
      "\u001b[01mmyst-nb v1.1.2:\u001b[39;49;00m NbParserConfig(custom_formats={}, metadata_key='mystnb', cell_metadata_key='mystnb', kernel_rgx_aliases={}, eval_name_regex='^[a-zA-Z_][a-zA-Z0-9_]*$', execution_mode='auto', execution_cache_path='', execution_excludepatterns=[], execution_timeout=30, execution_in_temp=False, execution_allow_errors=False, execution_raise_on_error=False, execution_show_tb=False, merge_streams=False, render_plugin='default', remove_code_source=False, remove_code_outputs=False, code_prompt_show='Show code cell {type}', code_prompt_hide='Hide code cell {type}', number_source_lines=False, output_stderr='show', render_text_lexer='myst-ansi', render_error_lexer='ipythontb', render_image_options={}, render_figure_options={}, render_markdown_format='commonmark', output_folder='build', append_css=True, metadata_to_fm=False)\n",
      "Using jupyter-cache at: /calibrationFolder/calibrationJupyterBook/_build/.jupyter_cache\n",
      "\u001b[01msphinx-multitoc-numbering v0.1.3:\u001b[39;49;00m Loaded\n",
      "\u001b[01mbuilding [mo]: \u001b[39;49;00mtargets for 0 po files that are out of date\n",
      "\u001b[01mwriting output... \u001b[39;49;00m\n",
      "\u001b[01mbuilding [html]: \u001b[39;49;00mtargets for 8 source files that are out of date\n",
      "[new config] 8 added, 0 changed, 0 removed\n",
      "/calibrationFolder/calibrationJupyterBook/StartingCalibrationTest/1.Loading_functions.ipynb: Executing notebook using local CWD [mystnb]\n",
      "/calibrationFolder/calibrationJupyterBook/StartingCalibrationTest/1.Loading_functions.ipynb: Executed notebook in 2.28 seconds [mystnb]\n",
      "/calibrationFolder/calibrationJupyterBook/StartingCalibrationTest/2.Test_sim_functions.ipynb: Executing notebook using local CWD [mystnb]\n",
      "/calibrationFolder/calibrationJupyterBook/StartingCalibrationTest/2.Test_sim_functions.ipynb: Executed notebook in 11.28 seconds [mystnb]\n",
      "/calibrationFolder/calibrationJupyterBook/StartingCalibrationTest/3.Initial_Species_Parameters.ipynb: Executing notebook using local CWD [mystnb]\n",
      "/calibrationFolder/calibrationJupyterBook/StartingCalibrationTest/3.Initial_Species_Parameters.ipynb: Executed notebook in 5.02 seconds [mystnb]\n",
      "/calibrationFolder/calibrationJupyterBook/StartingCalibrationTest/4.Setting_up_calibration_Landscape.ipynb: Skipped execution in 'auto' mode (all outputs present) [mystnb]\n",
      "/calibrationFolder/calibrationJupyterBook/StartingCalibrationTest/5.Obtaining_Growth_data_from_FVS.ipynb: Executing notebook using local CWD [mystnb]\n",
      "/calibrationFolder/calibrationJupyterBook/StartingCalibrationTest/5.Obtaining_Growth_data_from_FVS.ipynb: Executed notebook in 14.55 seconds [mystnb]\n",
      "/calibrationFolder/calibrationJupyterBook/StartingCalibrationTest/6.Monoculture_ideal_conditions.ipynb: Executing notebook using local CWD [mystnb]\n",
      "/calibrationFolder/calibrationJupyterBook/StartingCalibrationTest/6.Monoculture_ideal_conditions.ipynb: Executed notebook in 0.94 seconds [mystnb]\n",
      "/calibrationFolder/calibrationJupyterBook/StartingCalibrationTest/Intro_CalibrationTest.ipynb: Executing notebook using local CWD [mystnb]\n",
      "/calibrationFolder/calibrationJupyterBook/StartingCalibrationTest/Intro_CalibrationTest.ipynb: Executed notebook in 1.18 seconds [mystnb]\n",
      "\u001b[2K\u001b[01mreading sources... \u001b[39;49;00m[100%] \u001b[35mintro\u001b[39;49;00m\n",
      "\u001b[91m/calibrationFolder/calibrationJupyterBook/StartingCalibrationTest/3.Initial_Species_Parameters.ipynb:110002: WARNING: Non-consecutive header level increase; H2 to H4 [myst.header]\u001b[39;49;00m\n",
      "\u001b[91m/calibrationFolder/calibrationJupyterBook/StartingCalibrationTest/3.Initial_Species_Parameters.ipynb:: WARNING: Multiple footnote definitions found for label: '2' [myst.footnote]\u001b[39;49;00m\n",
      "\u001b[91m/calibrationFolder/calibrationJupyterBook/StartingCalibrationTest/3.Initial_Species_Parameters.ipynb:: WARNING: Multiple footnote definitions found for label: '1' [myst.footnote]\u001b[39;49;00m\n",
      "\u001b[91m/calibrationFolder/calibrationJupyterBook/StartingCalibrationTest/3.Initial_Species_Parameters.ipynb:: WARNING: Multiple footnote definitions found for label: '3' [myst.footnote]\u001b[39;49;00m\n",
      "none foundng for now-outdated files... \u001b[39;49;00m\n",
      "donempickling environment... \u001b[39;49;00m\n",
      "\u001b[01mchecking consistency... \u001b[39;49;00mdone\n",
      "\u001b[01mpreparing documents... \u001b[39;49;00mdone\n",
      "\u001b[01mcopying assets... \u001b[39;49;00m\n",
      "\u001b[2K\u001b[01mcopying downloadable files... \u001b[39;49;00m[100%] \u001b[33mStartingCalibrationTest/ReferencesAndData/LANDIS-IIPnETextensionParametersInformation.xlsx\u001b[39;49;00m\n",
      "donemcopying static files... \u001b[39;49;00m\n",
      "\u001b[01mcopying extra files... \u001b[39;49;00mdone\n",
      "\u001b[01mcopying assets: \u001b[39;49;00mdone\n",
      "\u001b[2K\u001b[01mwriting output... \u001b[39;49;00m[100%] \u001b[32mintro\u001b[39;49;00mionTest/Intro_CalibrationTest\u001b[39;49;00m39;49;00m0m0m\n",
      "donemgenerating indices... \u001b[39;49;00mgenindex \n",
      "donemwriting additional pages... \u001b[39;49;00msearch \n",
      "\u001b[2K\u001b[01mcopying images... \u001b[39;49;00m[100%] \u001b[33m_build/jupyter_execute/560626d6bd4173d70e4fcce506fccc1d3ab6874a5f37a1a7d64b8ff27478c175.png\u001b[39;49;00m\n",
      "\u001b[01mdumping search index in English (code: en)... \u001b[39;49;00mdone\n",
      "\u001b[01mdumping object inventory... \u001b[39;49;00mdone\n",
      "\u001b[01mbuild succeeded, 4 warnings.\u001b[39;49;00m\n",
      "\n",
      "The HTML pages are in calibrationJupyterBook/_build/html.\n",
      "\n",
      "\u001b[92m===============================================================================\u001b[0m\n",
      "\n",
      "Finished generating HTML for book.\n",
      "Your book's HTML pages are here:\n",
      "    calibrationJupyterBook/_build/html/\n",
      "You can look at your book by opening this file in a browser:\n",
      "    calibrationJupyterBook/_build/html/index.html\n",
      "Or paste this line directly into your browser bar:\n",
      "    file:///calibrationFolder/calibrationJupyterBook/_build/html/index.html            \n",
      "\n",
      "\u001b[92m===============================================================================\u001b[0m\n",
      "\n"
     ]
    }
   ],
   "source": [
    "# Navigate to the directory where the script is located\n",
    "!cd \"$(dirname \"$0\")\"\n",
    "\n",
    "# Build the Jupyter Book\n",
    "!jupyter-book build calibrationJupyterBook/\n",
    "\n",
    "# Remove current html files\n",
    "!rm -r ./docs/*\n",
    "\n",
    "# Copy the built HTML files to the docs directory\n",
    "!cp -r ./calibrationJupyterBook/_build/html/* ./docs\n"
   ]
  },
  {
   "cell_type": "code",
   "execution_count": null,
   "id": "114f80ef-ec53-4425-85ca-22ea2992e946",
   "metadata": {},
   "outputs": [],
   "source": []
  }
 ],
 "metadata": {
  "kernelspec": {
   "display_name": "Python 3 (ipykernel)",
   "language": "python",
   "name": "python3"
  },
  "language_info": {
   "codemirror_mode": {
    "name": "ipython",
    "version": 3
   },
   "file_extension": ".py",
   "mimetype": "text/x-python",
   "name": "python",
   "nbconvert_exporter": "python",
   "pygments_lexer": "ipython3",
   "version": "3.10.12"
  }
 },
 "nbformat": 4,
 "nbformat_minor": 5
}
