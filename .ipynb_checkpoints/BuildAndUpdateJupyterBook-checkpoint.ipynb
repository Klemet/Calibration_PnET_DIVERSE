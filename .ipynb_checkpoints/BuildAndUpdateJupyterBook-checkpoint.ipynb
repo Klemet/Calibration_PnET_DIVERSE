{
 "cells": [
  {
   "cell_type": "code",
   "execution_count": 11,
   "id": "33875b5f-d2d9-4e26-995d-71684a0e37fc",
   "metadata": {},
   "outputs": [
    {
     "name": "stdout",
     "output_type": "stream",
     "text": [
      "Usage: jupyter-book [OPTIONS] COMMAND [ARGS]...\n",
      "Try 'jupyter-book -h' for help.\n",
      "\n",
      "Error: No such option: -a\n"
     ]
    }
   ],
   "source": [
    "# Navigate to the directory where the script is located\n",
    "!cd \"$(dirname \"$0\")\"\n",
    "\n",
    "# Build the Jupyter Book\n",
    "!jupyter-book build -all calibrationJupyterBook/\n",
    "\n",
    "# Remove current html files\n",
    "!rm -r ./docs/*\n",
    "\n",
    "# Copy the built HTML files to the docs directory\n",
    "!cp -r ./calibrationJupyterBook/_build/html/* ./docs\n"
   ]
  },
  {
   "cell_type": "code",
   "execution_count": null,
   "id": "114f80ef-ec53-4425-85ca-22ea2992e946",
   "metadata": {},
   "outputs": [],
   "source": []
  }
 ],
 "metadata": {
  "kernelspec": {
   "display_name": "Python 3 (ipykernel)",
   "language": "python",
   "name": "python3"
  },
  "language_info": {
   "codemirror_mode": {
    "name": "ipython",
    "version": 3
   },
   "file_extension": ".py",
   "mimetype": "text/x-python",
   "name": "python",
   "nbconvert_exporter": "python",
   "pygments_lexer": "ipython3",
   "version": "3.10.12"
  }
 },
 "nbformat": 4,
 "nbformat_minor": 5
}
