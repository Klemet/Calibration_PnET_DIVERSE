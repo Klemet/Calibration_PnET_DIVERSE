{
 "cells": [
  {
   "cell_type": "markdown",
   "id": "bce22bc8-38d2-4587-bf7b-4804217efc74",
   "metadata": {},
   "source": [
    "# Calibration test\n",
    "\n",
    "Using the first version of the [calibration plan described in the documentation](https://klemet.github.io/DIVERSE_LANDIS-II_Parameterization/#Plan%20for%20a%20new%20calibration%20of%20PnET%20in%20Canada), I will attempt here to calibrate a couple of species in a region of Quebec already used for simulations in the DIVERSE project."
   ]
  },
  {
   "cell_type": "markdown",
   "id": "700ce170-a6f0-4e80-b98a-9337512afd55",
   "metadata": {},
   "source": [
    "## Objective\n",
    "\n",
    "To calibrate 3 species whose parameters are already proposed in the [PnET Succession v5.1 User Guide](https://github.com/LANDIS-II-Foundation/Extension-PnET-Succession/blob/master/deploy/docs/LANDIS-II%20PnET-Succession%20v5.1%20User%20Guide.pdf), but which are found in Quebec :\n",
    "\n",
    "- *Albies balsamea*, the Balsam Fir\n",
    "- *Acer rubrum*, the Red Maple\n",
    "- *Picea mariana*, the Black Spruce."
   ]
  },
  {
   "cell_type": "markdown",
   "id": "80ab020b-0b87-4517-b163-e040e138b4a9",
   "metadata": {},
   "source": [
    "## Pre-calibration work\n",
    "\n",
    "### Initial species parameters\n",
    "\n",
    "In the [calibration plan](https://klemet.github.io/DIVERSE_LANDIS-II_Parameterization/#Plan%20for%20a%20new%20calibration%20of%20PnET%20in%20Canada), I propose we start either with the parameter values for the type of shade tolerant species proposed in the [PnET Succession v5.1 User Guide](https://github.com/LANDIS-II-Foundation/Extension-PnET-Succession/blob/master/deploy/docs/LANDIS-II%20PnET-Succession%20v5.1%20User%20Guide.pdf) (Table 1 page 74), or with parameter values extracted from the litterature.\n",
    "\n"
   ]
  }
 ],
 "metadata": {
  "kernelspec": {
   "display_name": "Python 3 (ipykernel)",
   "language": "python",
   "name": "python3"
  },
  "language_info": {
   "codemirror_mode": {
    "name": "ipython",
    "version": 3
   },
   "file_extension": ".py",
   "mimetype": "text/x-python",
   "name": "python",
   "nbconvert_exporter": "python",
   "pygments_lexer": "ipython3",
   "version": "3.11.9"
  }
 },
 "nbformat": 4,
 "nbformat_minor": 5
}
